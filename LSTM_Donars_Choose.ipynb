{
  "nbformat": 4,
  "nbformat_minor": 0,
  "metadata": {
    "kernelspec": {
      "display_name": "Python 3",
      "language": "python",
      "name": "python3"
    },
    "language_info": {
      "codemirror_mode": {
        "name": "ipython",
        "version": 3
      },
      "file_extension": ".py",
      "mimetype": "text/x-python",
      "name": "python",
      "nbconvert_exporter": "python",
      "pygments_lexer": "ipython3",
      "version": "3.7.1"
    },
    "colab": {
      "name": "LSTM_Donars_Choose.ipynb",
      "provenance": [],
      "collapsed_sections": []
    }
  },
  "cells": [
    {
      "cell_type": "code",
      "metadata": {
        "id": "LNkopeEOLLEy",
        "colab_type": "code",
        "colab": {}
      },
      "source": [
        "%matplotlib inline\n",
        "import warnings\n",
        "warnings.filterwarnings(\"ignore\")\n",
        "\n",
        "import pandas as pd\n",
        "import numpy as np\n",
        "from sklearn.feature_extraction.text import TfidfVectorizer\n",
        "from sklearn.feature_extraction.text import CountVectorizer\n",
        "\n",
        "\n",
        "import re\n",
        "# Tutorial about Python regular expressions: https://pymotw.com/2/re/\n",
        "\n",
        "from nltk.corpus import stopwords\n",
        "import pickle\n",
        "\n",
        "from tqdm import tqdm\n",
        "import os"
      ],
      "execution_count": 0,
      "outputs": []
    },
    {
      "cell_type": "code",
      "metadata": {
        "id": "pSZcb8weNiq2",
        "colab_type": "code",
        "colab": {}
      },
      "source": [
        "from pydrive.auth import GoogleAuth\n",
        "from pydrive.drive import GoogleDrive\n",
        "from google.colab import auth\n",
        "from oauth2client.client import GoogleCredentials"
      ],
      "execution_count": 0,
      "outputs": []
    },
    {
      "cell_type": "code",
      "metadata": {
        "id": "WqmXVnnzNd2u",
        "colab_type": "code",
        "colab": {}
      },
      "source": [
        "auth.authenticate_user()\n",
        "gauth = GoogleAuth()\n",
        "gauth.credentials = GoogleCredentials.get_application_default()\n",
        "drive = GoogleDrive(gauth)"
      ],
      "execution_count": 0,
      "outputs": []
    },
    {
      "cell_type": "code",
      "metadata": {
        "id": "53eR3WTjN4gG",
        "colab_type": "code",
        "colab": {}
      },
      "source": [
        "downloaded = drive.CreateFile({'id':'14OVXWu_SJU-lJD-jKMOCld14EZ21lYYe'}) # replace the id with id of file you want to access\n",
        "downloaded.GetContentFile('resources.csv')\n",
        "downloaded1 = drive.CreateFile({'id':'1T48h84GLW3dpy9F6ble5nF_1gQxBO8rx'}) # replace the id with id of file you want to access\n",
        "downloaded1.GetContentFile('train_data.csv')"
      ],
      "execution_count": 0,
      "outputs": []
    },
    {
      "cell_type": "code",
      "metadata": {
        "id": "w2eY0gd1LLE8",
        "colab_type": "code",
        "colab": {}
      },
      "source": [
        "project_data = pd.read_csv('train_data.csv')\n",
        "resource_data = pd.read_csv('resources.csv')"
      ],
      "execution_count": 0,
      "outputs": []
    },
    {
      "cell_type": "code",
      "metadata": {
        "id": "lV6xyxotLLFB",
        "colab_type": "code",
        "outputId": "a7e407b2-edcb-4ca3-f6ce-2dd07643405f",
        "colab": {
          "base_uri": "https://localhost:8080/",
          "height": 204
        }
      },
      "source": [
        "print(\"Number of data points in train data\", project_data.shape)\n",
        "print('-'*50)\n",
        "print(\"The attributes of data :\", project_data.columns.values)\n",
        "\n",
        "print(project_data['project_is_approved'].value_counts())"
      ],
      "execution_count": 7,
      "outputs": [
        {
          "output_type": "stream",
          "text": [
            "Number of data points in train data (109248, 17)\n",
            "--------------------------------------------------\n",
            "The attributes of data : ['Unnamed: 0' 'id' 'teacher_id' 'teacher_prefix' 'school_state'\n",
            " 'project_submitted_datetime' 'project_grade_category'\n",
            " 'project_subject_categories' 'project_subject_subcategories'\n",
            " 'project_title' 'project_essay_1' 'project_essay_2' 'project_essay_3'\n",
            " 'project_essay_4' 'project_resource_summary'\n",
            " 'teacher_number_of_previously_posted_projects' 'project_is_approved']\n",
            "1    92706\n",
            "0    16542\n",
            "Name: project_is_approved, dtype: int64\n"
          ],
          "name": "stdout"
        }
      ]
    },
    {
      "cell_type": "code",
      "metadata": {
        "id": "bywsHp1FLLFH",
        "colab_type": "code",
        "outputId": "f6becbb1-d5ec-4bbd-a51c-321275d9ed69",
        "colab": {
          "base_uri": "https://localhost:8080/",
          "height": 145
        }
      },
      "source": [
        "print(\"Number of data points in train data\", resource_data.shape)\n",
        "print(resource_data.columns.values)\n",
        "resource_data.head(2)"
      ],
      "execution_count": 8,
      "outputs": [
        {
          "output_type": "stream",
          "text": [
            "Number of data points in train data (1541272, 4)\n",
            "['id' 'description' 'quantity' 'price']\n"
          ],
          "name": "stdout"
        },
        {
          "output_type": "execute_result",
          "data": {
            "text/html": [
              "<div>\n",
              "<style scoped>\n",
              "    .dataframe tbody tr th:only-of-type {\n",
              "        vertical-align: middle;\n",
              "    }\n",
              "\n",
              "    .dataframe tbody tr th {\n",
              "        vertical-align: top;\n",
              "    }\n",
              "\n",
              "    .dataframe thead th {\n",
              "        text-align: right;\n",
              "    }\n",
              "</style>\n",
              "<table border=\"1\" class=\"dataframe\">\n",
              "  <thead>\n",
              "    <tr style=\"text-align: right;\">\n",
              "      <th></th>\n",
              "      <th>id</th>\n",
              "      <th>description</th>\n",
              "      <th>quantity</th>\n",
              "      <th>price</th>\n",
              "    </tr>\n",
              "  </thead>\n",
              "  <tbody>\n",
              "    <tr>\n",
              "      <th>0</th>\n",
              "      <td>p233245</td>\n",
              "      <td>LC652 - Lakeshore Double-Space Mobile Drying Rack</td>\n",
              "      <td>1</td>\n",
              "      <td>149.00</td>\n",
              "    </tr>\n",
              "    <tr>\n",
              "      <th>1</th>\n",
              "      <td>p069063</td>\n",
              "      <td>Bouncy Bands for Desks (Blue support pipes)</td>\n",
              "      <td>3</td>\n",
              "      <td>14.95</td>\n",
              "    </tr>\n",
              "  </tbody>\n",
              "</table>\n",
              "</div>"
            ],
            "text/plain": [
              "        id                                        description  quantity   price\n",
              "0  p233245  LC652 - Lakeshore Double-Space Mobile Drying Rack         1  149.00\n",
              "1  p069063        Bouncy Bands for Desks (Blue support pipes)         3   14.95"
            ]
          },
          "metadata": {
            "tags": []
          },
          "execution_count": 8
        }
      ]
    },
    {
      "cell_type": "code",
      "metadata": {
        "id": "cjsgsmOTLLFN",
        "colab_type": "code",
        "outputId": "4021ad70-48b6-41cd-dd61-e5cebc5b018f",
        "colab": {
          "base_uri": "https://localhost:8080/",
          "height": 462
        }
      },
      "source": [
        "project_data.head(5)"
      ],
      "execution_count": 9,
      "outputs": [
        {
          "output_type": "execute_result",
          "data": {
            "text/html": [
              "<div>\n",
              "<style scoped>\n",
              "    .dataframe tbody tr th:only-of-type {\n",
              "        vertical-align: middle;\n",
              "    }\n",
              "\n",
              "    .dataframe tbody tr th {\n",
              "        vertical-align: top;\n",
              "    }\n",
              "\n",
              "    .dataframe thead th {\n",
              "        text-align: right;\n",
              "    }\n",
              "</style>\n",
              "<table border=\"1\" class=\"dataframe\">\n",
              "  <thead>\n",
              "    <tr style=\"text-align: right;\">\n",
              "      <th></th>\n",
              "      <th>Unnamed: 0</th>\n",
              "      <th>id</th>\n",
              "      <th>teacher_id</th>\n",
              "      <th>teacher_prefix</th>\n",
              "      <th>school_state</th>\n",
              "      <th>project_submitted_datetime</th>\n",
              "      <th>project_grade_category</th>\n",
              "      <th>project_subject_categories</th>\n",
              "      <th>project_subject_subcategories</th>\n",
              "      <th>project_title</th>\n",
              "      <th>project_essay_1</th>\n",
              "      <th>project_essay_2</th>\n",
              "      <th>project_essay_3</th>\n",
              "      <th>project_essay_4</th>\n",
              "      <th>project_resource_summary</th>\n",
              "      <th>teacher_number_of_previously_posted_projects</th>\n",
              "      <th>project_is_approved</th>\n",
              "    </tr>\n",
              "  </thead>\n",
              "  <tbody>\n",
              "    <tr>\n",
              "      <th>0</th>\n",
              "      <td>160221</td>\n",
              "      <td>p253737</td>\n",
              "      <td>c90749f5d961ff158d4b4d1e7dc665fc</td>\n",
              "      <td>Mrs.</td>\n",
              "      <td>IN</td>\n",
              "      <td>2016-12-05 13:43:57</td>\n",
              "      <td>Grades PreK-2</td>\n",
              "      <td>Literacy &amp; Language</td>\n",
              "      <td>ESL, Literacy</td>\n",
              "      <td>Educational Support for English Learners at Home</td>\n",
              "      <td>My students are English learners that are work...</td>\n",
              "      <td>\\\"The limits of your language are the limits o...</td>\n",
              "      <td>NaN</td>\n",
              "      <td>NaN</td>\n",
              "      <td>My students need opportunities to practice beg...</td>\n",
              "      <td>0</td>\n",
              "      <td>0</td>\n",
              "    </tr>\n",
              "    <tr>\n",
              "      <th>1</th>\n",
              "      <td>140945</td>\n",
              "      <td>p258326</td>\n",
              "      <td>897464ce9ddc600bced1151f324dd63a</td>\n",
              "      <td>Mr.</td>\n",
              "      <td>FL</td>\n",
              "      <td>2016-10-25 09:22:10</td>\n",
              "      <td>Grades 6-8</td>\n",
              "      <td>History &amp; Civics, Health &amp; Sports</td>\n",
              "      <td>Civics &amp; Government, Team Sports</td>\n",
              "      <td>Wanted: Projector for Hungry Learners</td>\n",
              "      <td>Our students arrive to our school eager to lea...</td>\n",
              "      <td>The projector we need for our school is very c...</td>\n",
              "      <td>NaN</td>\n",
              "      <td>NaN</td>\n",
              "      <td>My students need a projector to help with view...</td>\n",
              "      <td>7</td>\n",
              "      <td>1</td>\n",
              "    </tr>\n",
              "    <tr>\n",
              "      <th>2</th>\n",
              "      <td>21895</td>\n",
              "      <td>p182444</td>\n",
              "      <td>3465aaf82da834c0582ebd0ef8040ca0</td>\n",
              "      <td>Ms.</td>\n",
              "      <td>AZ</td>\n",
              "      <td>2016-08-31 12:03:56</td>\n",
              "      <td>Grades 6-8</td>\n",
              "      <td>Health &amp; Sports</td>\n",
              "      <td>Health &amp; Wellness, Team Sports</td>\n",
              "      <td>Soccer Equipment for AWESOME Middle School Stu...</td>\n",
              "      <td>\\r\\n\\\"True champions aren't always the ones th...</td>\n",
              "      <td>The students on the campus come to school know...</td>\n",
              "      <td>NaN</td>\n",
              "      <td>NaN</td>\n",
              "      <td>My students need shine guards, athletic socks,...</td>\n",
              "      <td>1</td>\n",
              "      <td>0</td>\n",
              "    </tr>\n",
              "    <tr>\n",
              "      <th>3</th>\n",
              "      <td>45</td>\n",
              "      <td>p246581</td>\n",
              "      <td>f3cb9bffbba169bef1a77b243e620b60</td>\n",
              "      <td>Mrs.</td>\n",
              "      <td>KY</td>\n",
              "      <td>2016-10-06 21:16:17</td>\n",
              "      <td>Grades PreK-2</td>\n",
              "      <td>Literacy &amp; Language, Math &amp; Science</td>\n",
              "      <td>Literacy, Mathematics</td>\n",
              "      <td>Techie Kindergarteners</td>\n",
              "      <td>I work at a unique school filled with both ESL...</td>\n",
              "      <td>My students live in high poverty conditions wi...</td>\n",
              "      <td>NaN</td>\n",
              "      <td>NaN</td>\n",
              "      <td>My students need to engage in Reading and Math...</td>\n",
              "      <td>4</td>\n",
              "      <td>1</td>\n",
              "    </tr>\n",
              "    <tr>\n",
              "      <th>4</th>\n",
              "      <td>172407</td>\n",
              "      <td>p104768</td>\n",
              "      <td>be1f7507a41f8479dc06f047086a39ec</td>\n",
              "      <td>Mrs.</td>\n",
              "      <td>TX</td>\n",
              "      <td>2016-07-11 01:10:09</td>\n",
              "      <td>Grades PreK-2</td>\n",
              "      <td>Math &amp; Science</td>\n",
              "      <td>Mathematics</td>\n",
              "      <td>Interactive Math Tools</td>\n",
              "      <td>Our second grade classroom next year will be m...</td>\n",
              "      <td>For many students, math is a subject that does...</td>\n",
              "      <td>NaN</td>\n",
              "      <td>NaN</td>\n",
              "      <td>My students need hands on practice in mathemat...</td>\n",
              "      <td>1</td>\n",
              "      <td>1</td>\n",
              "    </tr>\n",
              "  </tbody>\n",
              "</table>\n",
              "</div>"
            ],
            "text/plain": [
              "   Unnamed: 0  ... project_is_approved\n",
              "0      160221  ...                   0\n",
              "1      140945  ...                   1\n",
              "2       21895  ...                   0\n",
              "3          45  ...                   1\n",
              "4      172407  ...                   1\n",
              "\n",
              "[5 rows x 17 columns]"
            ]
          },
          "metadata": {
            "tags": []
          },
          "execution_count": 9
        }
      ]
    },
    {
      "cell_type": "code",
      "metadata": {
        "id": "4Gy7lbH2LLFS",
        "colab_type": "code",
        "outputId": "ff79a43a-73be-4542-f7f3-e7f0f5c4b110",
        "colab": {
          "base_uri": "https://localhost:8080/",
          "height": 34
        }
      },
      "source": [
        "project_data['project_subject_subcategories'] = project_data['project_subject_subcategories'].str.replace(' The ','')\n",
        "project_data['project_subject_subcategories'] = project_data['project_subject_subcategories'].str.replace(' ','')\n",
        "project_data['project_subject_subcategories'] = project_data['project_subject_subcategories'].str.replace('&','_')\n",
        "project_data['project_subject_subcategories'] = project_data['project_subject_subcategories'].str.replace(',','_')\n",
        "project_data['project_subject_subcategories'] = project_data['project_subject_subcategories'].str.lower()\n",
        "len(project_data['project_subject_subcategories'].value_counts())"
      ],
      "execution_count": 10,
      "outputs": [
        {
          "output_type": "execute_result",
          "data": {
            "text/plain": [
              "401"
            ]
          },
          "metadata": {
            "tags": []
          },
          "execution_count": 10
        }
      ]
    },
    {
      "cell_type": "code",
      "metadata": {
        "id": "KWQM7pLALLFW",
        "colab_type": "code",
        "outputId": "2cfeec67-f72d-4665-a89b-f26c218dea72",
        "colab": {
          "base_uri": "https://localhost:8080/",
          "height": 34
        }
      },
      "source": [
        "project_data['project_subject_categories'] = project_data['project_subject_categories'].str.replace(' The ','')\n",
        "project_data['project_subject_categories'] = project_data['project_subject_categories'].str.replace(' ','')\n",
        "project_data['project_subject_categories'] = project_data['project_subject_categories'].str.replace('&','_')\n",
        "project_data['project_subject_categories'] = project_data['project_subject_categories'].str.replace(',','_')\n",
        "project_data['project_subject_categories'] = project_data['project_subject_categories'].str.lower()\n",
        "len(project_data['project_subject_categories'].value_counts())"
      ],
      "execution_count": 11,
      "outputs": [
        {
          "output_type": "execute_result",
          "data": {
            "text/plain": [
              "51"
            ]
          },
          "metadata": {
            "tags": []
          },
          "execution_count": 11
        }
      ]
    },
    {
      "cell_type": "code",
      "metadata": {
        "id": "_uj0OLLLB_cp",
        "colab_type": "code",
        "colab": {}
      },
      "source": [
        ""
      ],
      "execution_count": 0,
      "outputs": []
    },
    {
      "cell_type": "code",
      "metadata": {
        "id": "KMPm81-bB_W8",
        "colab_type": "code",
        "colab": {
          "base_uri": "https://localhost:8080/",
          "height": 102
        },
        "outputId": "93f6122b-4a42-490e-8b90-b43499043f7f"
      },
      "source": [
        "print(project_data[\"project_is_approved\"].value_counts())\n",
        "\n",
        "project_data.index=np.arange(0,len(project_data))\n",
        "non_approved=[]\n",
        "approved=[]\n",
        "\n",
        "for i in range(len(project_data)):\n",
        "    if(project_data.loc[i,\"project_is_approved\"]==0):\n",
        "        non_approved.append(project_data.loc[i])\n",
        "    else:\n",
        "        approved.append(project_data.loc[i]) \n",
        "# Number of observations in each class\n",
        "non_approved\n",
        "print(len(non_approved))\n",
        "print(len(approved))"
      ],
      "execution_count": 18,
      "outputs": [
        {
          "output_type": "stream",
          "text": [
            "1    92706\n",
            "0    16542\n",
            "Name: project_is_approved, dtype: int64\n",
            "16542\n",
            "92706\n"
          ],
          "name": "stdout"
        }
      ]
    },
    {
      "cell_type": "code",
      "metadata": {
        "id": "PBdHd0JoB_Ob",
        "colab_type": "code",
        "colab": {}
      },
      "source": [
        "import random \n",
        "length=len(approved)-len(non_approved)\n",
        "for i in range(length):\n",
        "    k=random.randrange(0,16542)\n",
        "    non_approved.append(project_data.loc[k])\n"
      ],
      "execution_count": 0,
      "outputs": []
    },
    {
      "cell_type": "code",
      "metadata": {
        "id": "ekJqvdVEB_Ix",
        "colab_type": "code",
        "colab": {}
      },
      "source": [
        "#approved.head(3)\n",
        "non_approved=pd.concat(non_approved,axis=1)\n",
        "approved=pd.concat(approved,axis=1)\n",
        "approved=approved.T\n",
        "non_approved=non_approved.T"
      ],
      "execution_count": 0,
      "outputs": []
    },
    {
      "cell_type": "code",
      "metadata": {
        "id": "PS8wyEoaB_Af",
        "colab_type": "code",
        "colab": {}
      },
      "source": [
        "project_data_new=pd.concat([non_approved,approved])"
      ],
      "execution_count": 0,
      "outputs": []
    },
    {
      "cell_type": "code",
      "metadata": {
        "id": "C9mlXbBOCLJw",
        "colab_type": "code",
        "colab": {}
      },
      "source": [
        "project_data_new=project_data_new.sort_values(by='project_submitted_datetime')"
      ],
      "execution_count": 0,
      "outputs": []
    },
    {
      "cell_type": "code",
      "metadata": {
        "id": "Lsuj-seICUfu",
        "colab_type": "code",
        "colab": {}
      },
      "source": [
        "project_data=project_data_new"
      ],
      "execution_count": 0,
      "outputs": []
    },
    {
      "cell_type": "markdown",
      "metadata": {
        "id": "Cl9tltxKLLFc",
        "colab_type": "text"
      },
      "source": [
        "### preprocessing of project_subject_subcategories"
      ]
    },
    {
      "cell_type": "code",
      "metadata": {
        "id": "3zPameouLLFd",
        "colab_type": "code",
        "colab": {}
      },
      "source": [
        "# merge two column text dataframe: \n",
        "project_data[\"essay\"] = project_data[\"project_essay_1\"].map(str) +\\\n",
        "                        project_data[\"project_essay_2\"].map(str) + \\\n",
        "                        project_data[\"project_essay_3\"].map(str) + \\\n",
        "                        project_data[\"project_essay_4\"].map(str)"
      ],
      "execution_count": 0,
      "outputs": []
    },
    {
      "cell_type": "code",
      "metadata": {
        "id": "5js4xMbDLLFg",
        "colab_type": "code",
        "colab": {}
      },
      "source": [
        "# https://stackoverflow.com/a/47091490/4084039\n",
        "import re\n",
        "\n",
        "def decontracted(phrase):\n",
        "    # specific\n",
        "    phrase = re.sub(r\"won't\", \"will not\", phrase)\n",
        "    phrase = re.sub(r\"can\\'t\", \"can not\", phrase)\n",
        "\n",
        "    # general\n",
        "    phrase = re.sub(r\"n\\'t\", \" not\", phrase)\n",
        "    phrase = re.sub(r\"\\'re\", \" are\", phrase)\n",
        "    phrase = re.sub(r\"\\'s\", \" is\", phrase)\n",
        "    phrase = re.sub(r\"\\'d\", \" would\", phrase)\n",
        "    phrase = re.sub(r\"\\'ll\", \" will\", phrase)\n",
        "    phrase = re.sub(r\"\\'t\", \" not\", phrase)\n",
        "    phrase = re.sub(r\"\\'ve\", \" have\", phrase)\n",
        "    phrase = re.sub(r\"\\'m\", \" am\", phrase)\n",
        "    return phrase"
      ],
      "execution_count": 0,
      "outputs": []
    },
    {
      "cell_type": "code",
      "metadata": {
        "id": "gpIGUJyjLLFi",
        "colab_type": "code",
        "outputId": "db1eb723-4fea-4ae0-e506-a7f25b121629",
        "colab": {
          "base_uri": "https://localhost:8080/",
          "height": 71
        }
      },
      "source": [
        "sent = decontracted(project_data['essay'].values[20000])\n",
        "print(sent)\n",
        "print(\"=\"*50)"
      ],
      "execution_count": 14,
      "outputs": [
        {
          "output_type": "stream",
          "text": [
            "My kindergarten students have varied disabilities ranging from speech and language delays, cognitive delays, gross/fine motor delays, to autism. They are eager beavers and always strive to work their hardest working past their limitations. \\r\\n\\r\\nThe materials we have are the ones I seek out for my students. I teach in a Title I school where most of the students receive free or reduced price lunch.  Despite their disabilities and limitations, my students love coming to school and come eager to learn and explore.Have you ever felt like you had ants in your pants and you needed to groove and move as you were in a meeting? This is how my kids feel all the time. The want to be able to move as they learn or so they say.Wobble chairs are the answer and I love then because they develop their core, which enhances gross motor and in Turn fine motor skills. \\r\\nThey also want to learn through games, my kids do not want to sit and do worksheets. They want to learn to count by jumping and playing. Physical engagement is the key to our success. The number toss and color and shape mats can make that happen. My students will forget they are doing work and just have the fun a 6 year old deserves.nannan\n",
            "==================================================\n"
          ],
          "name": "stdout"
        }
      ]
    },
    {
      "cell_type": "code",
      "metadata": {
        "id": "QHVHci9KLLFr",
        "colab_type": "code",
        "outputId": "f00c5523-22ac-48d3-8160-f853fd7ce267",
        "colab": {
          "base_uri": "https://localhost:8080/",
          "height": 54
        }
      },
      "source": [
        "# \\r \\n \\t remove from string python: http://texthandler.com/info/remove-line-breaks-python/\n",
        "sent = sent.replace('\\\\r', ' ')\n",
        "sent = sent.replace('\\\\\"', ' ')\n",
        "sent = sent.replace('\\\\n', ' ')\n",
        "print(sent)"
      ],
      "execution_count": 15,
      "outputs": [
        {
          "output_type": "stream",
          "text": [
            "My kindergarten students have varied disabilities ranging from speech and language delays, cognitive delays, gross/fine motor delays, to autism. They are eager beavers and always strive to work their hardest working past their limitations.     The materials we have are the ones I seek out for my students. I teach in a Title I school where most of the students receive free or reduced price lunch.  Despite their disabilities and limitations, my students love coming to school and come eager to learn and explore.Have you ever felt like you had ants in your pants and you needed to groove and move as you were in a meeting? This is how my kids feel all the time. The want to be able to move as they learn or so they say.Wobble chairs are the answer and I love then because they develop their core, which enhances gross motor and in Turn fine motor skills.   They also want to learn through games, my kids do not want to sit and do worksheets. They want to learn to count by jumping and playing. Physical engagement is the key to our success. The number toss and color and shape mats can make that happen. My students will forget they are doing work and just have the fun a 6 year old deserves.nannan\n"
          ],
          "name": "stdout"
        }
      ]
    },
    {
      "cell_type": "code",
      "metadata": {
        "id": "BcVuHmWTLLFv",
        "colab_type": "code",
        "outputId": "4ada2caa-bc9a-4f96-cebf-4b7573a14e7b",
        "colab": {
          "base_uri": "https://localhost:8080/",
          "height": 54
        }
      },
      "source": [
        "#remove spacial character: https://stackoverflow.com/a/5843547/4084039\n",
        "sent = re.sub('[^A-Za-z0-9]+', ' ', sent)\n",
        "print(sent)"
      ],
      "execution_count": 16,
      "outputs": [
        {
          "output_type": "stream",
          "text": [
            "My kindergarten students have varied disabilities ranging from speech and language delays cognitive delays gross fine motor delays to autism They are eager beavers and always strive to work their hardest working past their limitations The materials we have are the ones I seek out for my students I teach in a Title I school where most of the students receive free or reduced price lunch Despite their disabilities and limitations my students love coming to school and come eager to learn and explore Have you ever felt like you had ants in your pants and you needed to groove and move as you were in a meeting This is how my kids feel all the time The want to be able to move as they learn or so they say Wobble chairs are the answer and I love then because they develop their core which enhances gross motor and in Turn fine motor skills They also want to learn through games my kids do not want to sit and do worksheets They want to learn to count by jumping and playing Physical engagement is the key to our success The number toss and color and shape mats can make that happen My students will forget they are doing work and just have the fun a 6 year old deserves nannan\n"
          ],
          "name": "stdout"
        }
      ]
    },
    {
      "cell_type": "code",
      "metadata": {
        "id": "92CB0MhPLLFy",
        "colab_type": "code",
        "outputId": "bb4e94e9-4b71-4af9-9040-c7e441d40f4f",
        "colab": {
          "base_uri": "https://localhost:8080/",
          "height": 102
        }
      },
      "source": [
        "project_data['project_grade_category'] = project_data['project_grade_category'].str.replace(' ','_')\n",
        "project_data['project_grade_category'] = project_data['project_grade_category'].str.replace('-','_')\n",
        "project_data['project_grade_category'] = project_data['project_grade_category'].str.lower()\n",
        "project_data['project_grade_category'].value_counts()"
      ],
      "execution_count": 17,
      "outputs": [
        {
          "output_type": "execute_result",
          "data": {
            "text/plain": [
              "grades_prek_2    44225\n",
              "grades_3_5       37137\n",
              "grades_6_8       16923\n",
              "grades_9_12      10963\n",
              "Name: project_grade_category, dtype: int64"
            ]
          },
          "metadata": {
            "tags": []
          },
          "execution_count": 17
        }
      ]
    },
    {
      "cell_type": "code",
      "metadata": {
        "id": "Tr7fub0ELLFz",
        "colab_type": "code",
        "outputId": "cc5d0568-e89c-4e60-b6d0-4a757fc0279c",
        "colab": {
          "base_uri": "https://localhost:8080/",
          "height": 119
        }
      },
      "source": [
        "project_data['teacher_prefix'] = project_data['teacher_prefix'].str.replace('.','')\n",
        "project_data['teacher_prefix'] = project_data['teacher_prefix'].str.lower()\n",
        "project_data['teacher_prefix'].value_counts()"
      ],
      "execution_count": 18,
      "outputs": [
        {
          "output_type": "execute_result",
          "data": {
            "text/plain": [
              "mrs        57269\n",
              "ms         38955\n",
              "mr         10648\n",
              "teacher     2360\n",
              "dr            13\n",
              "Name: teacher_prefix, dtype: int64"
            ]
          },
          "metadata": {
            "tags": []
          },
          "execution_count": 18
        }
      ]
    },
    {
      "cell_type": "code",
      "metadata": {
        "id": "vMAXgoYSLLF4",
        "colab_type": "code",
        "outputId": "c346a0dc-9d59-4078-9cbf-c882c1f06eeb",
        "colab": {
          "base_uri": "https://localhost:8080/",
          "height": 34
        }
      },
      "source": [
        "project_data['school_state'] = project_data['school_state'].str.lower()\n",
        "len(project_data['school_state'].value_counts())"
      ],
      "execution_count": 19,
      "outputs": [
        {
          "output_type": "execute_result",
          "data": {
            "text/plain": [
              "51"
            ]
          },
          "metadata": {
            "tags": []
          },
          "execution_count": 19
        }
      ]
    },
    {
      "cell_type": "code",
      "metadata": {
        "id": "Lt4CFbGELLF6",
        "colab_type": "code",
        "colab": {}
      },
      "source": [
        "# https://gist.github.com/sebleier/554280\n",
        "# we are removing the words from the stop words list: 'no', 'nor', 'not'\n",
        "stopwords= ['i', 'me', 'my', 'myself', 'we', 'our', 'ours', 'ourselves', 'you', \"you're\", \"you've\",\\\n",
        "            \"you'll\", \"you'd\", 'your', 'yours', 'yourself', 'yourselves', 'he', 'him', 'his', 'himself', \\\n",
        "            'she', \"she's\", 'her', 'hers', 'herself', 'it', \"it's\", 'its', 'itself', 'they', 'them', 'their',\\\n",
        "            'theirs', 'themselves', 'what', 'which', 'who', 'whom', 'this', 'that', \"that'll\", 'these', 'those', \\\n",
        "            'am', 'is', 'are', 'was', 'were', 'be', 'been', 'being', 'have', 'has', 'had', 'having', 'do', 'does', \\\n",
        "            'did', 'doing', 'a', 'an', 'the', 'and', 'but', 'if', 'or', 'because', 'as', 'until', 'while', 'of', \\\n",
        "            'at', 'by', 'for', 'with', 'about', 'against', 'between', 'into', 'through', 'during', 'before', 'after',\\\n",
        "            'above', 'below', 'to', 'from', 'up', 'down', 'in', 'out', 'on', 'off', 'over', 'under', 'again', 'further',\\\n",
        "            'then', 'once', 'here', 'there', 'when', 'where', 'why', 'how', 'all', 'any', 'both', 'each', 'few', 'more',\\\n",
        "            'most', 'other', 'some', 'such', 'only', 'own', 'same', 'so', 'than', 'too', 'very', \\\n",
        "            's', 't', 'can', 'will', 'just', 'don', \"don't\", 'should', \"should've\", 'now', 'd', 'll', 'm', 'o', 're', \\\n",
        "            've', 'y', 'ain', 'aren', \"aren't\", 'couldn', \"couldn't\", 'didn', \"didn't\", 'doesn', \"doesn't\", 'hadn',\\\n",
        "            \"hadn't\", 'hasn', \"hasn't\", 'haven', \"haven't\", 'isn', \"isn't\", 'ma', 'mightn', \"mightn't\", 'mustn',\\\n",
        "            \"mustn't\", 'needn', \"needn't\", 'shan', \"shan't\", 'shouldn', \"shouldn't\", 'wasn', \"wasn't\", 'weren', \"weren't\", \\\n",
        "            'won', \"won't\", 'wouldn', \"wouldn't\"]"
      ],
      "execution_count": 0,
      "outputs": []
    },
    {
      "cell_type": "code",
      "metadata": {
        "id": "aQhuMXnFLLF8",
        "colab_type": "code",
        "outputId": "aa230a0d-4630-4e06-ede7-ee97bd5f6c2d",
        "colab": {
          "base_uri": "https://localhost:8080/",
          "height": 85
        }
      },
      "source": [
        "from sklearn import model_selection\n",
        "#x_bow=x_bow.tocsr()\n",
        "\n",
        "y=project_data['project_is_approved']\n",
        "X_1, X_test, y_1, y_test = model_selection.train_test_split(project_data, y, test_size=0.33, random_state=0,\n",
        "                                                            stratify = project_data['project_is_approved'])\n",
        "X_tr, X_cv, y_tr, y_cv = model_selection.train_test_split(X_1, y_1, test_size=0.33)\n",
        "print(X_tr.shape, y_tr.shape)\n",
        "print(X_cv.shape, y_cv.shape)\n",
        "print(X_test.shape, y_test.shape)\n",
        "print(\"=\"*100)"
      ],
      "execution_count": 21,
      "outputs": [
        {
          "output_type": "stream",
          "text": [
            "(49041, 18) (49041,)\n",
            "(24155, 18) (24155,)\n",
            "(36052, 18) (36052,)\n",
            "====================================================================================================\n"
          ],
          "name": "stdout"
        }
      ]
    },
    {
      "cell_type": "code",
      "metadata": {
        "id": "wpwXVpo2LLF_",
        "colab_type": "code",
        "colab": {}
      },
      "source": [
        "X_test.drop(['project_is_approved'],axis=1,inplace=True)\n",
        "X_tr.drop(['project_is_approved'],axis=1,inplace=True)"
      ],
      "execution_count": 0,
      "outputs": []
    },
    {
      "cell_type": "code",
      "metadata": {
        "id": "FwqC73VqL1N_",
        "colab_type": "code",
        "colab": {}
      },
      "source": [
        "X_cv.drop(['project_is_approved'],axis=1,inplace=True)"
      ],
      "execution_count": 0,
      "outputs": []
    },
    {
      "cell_type": "code",
      "metadata": {
        "id": "vSxCumEgLLGB",
        "colab_type": "code",
        "outputId": "a3cbafe3-314e-4f57-f7d1-d2b5cf75b6be",
        "colab": {
          "base_uri": "https://localhost:8080/",
          "height": 34
        }
      },
      "source": [
        "from tqdm import tqdm\n",
        "tr_essay = []\n",
        "# tqdm is for printing the status bar\n",
        "for sentence in tqdm(X_tr['essay'].values):\n",
        "    sent = decontracted(sentence)\n",
        "    sent = sent.replace('\\\\r', ' ')\n",
        "    sent = sent.replace('\\\\\"', ' ')\n",
        "    sent = sent.replace('\\\\n', ' ')\n",
        "    sent = re.sub('[^A-Za-z0-9]+', ' ', sent)\n",
        "    # https://gist.github.com/sebleier/554280\n",
        "    sent = ' '.join(e for e in sent.split() if e.lower() not in stopwords)\n",
        "    tr_essay.append(sent.lower().strip())"
      ],
      "execution_count": 24,
      "outputs": [
        {
          "output_type": "stream",
          "text": [
            "100%|██████████| 49041/49041 [00:30<00:00, 1628.12it/s]\n"
          ],
          "name": "stderr"
        }
      ]
    },
    {
      "cell_type": "code",
      "metadata": {
        "id": "5cmCjeVhrEf6",
        "colab_type": "code",
        "outputId": "3953b80a-9a72-4bf0-ed41-e02c8533fd5f",
        "colab": {
          "base_uri": "https://localhost:8080/",
          "height": 34
        }
      },
      "source": [
        "cv_essay = []\n",
        "# tqdm is for printing the status bar\n",
        "for sentence in tqdm(X_cv['essay'].values):\n",
        "    sent = decontracted(sentence)\n",
        "    sent = sent.replace('\\\\r', ' ')\n",
        "    sent = sent.replace('\\\\\"', ' ')\n",
        "    sent = sent.replace('\\\\n', ' ')\n",
        "    sent = re.sub('[^A-Za-z0-9]+', ' ', sent)\n",
        "    sent = sent.lower().strip()\n",
        "    # https://gist.github.com/sebleier/554280\n",
        "    sent = ' '.join(e for e in sent.split() if e.lower() not in stopwords)\n",
        "    cv_essay.append(sent.lower().strip())"
      ],
      "execution_count": 25,
      "outputs": [
        {
          "output_type": "stream",
          "text": [
            "100%|██████████| 24155/24155 [00:14<00:00, 1676.21it/s]\n"
          ],
          "name": "stderr"
        }
      ]
    },
    {
      "cell_type": "code",
      "metadata": {
        "id": "w44QZ5i2LLGF",
        "colab_type": "code",
        "colab": {
          "base_uri": "https://localhost:8080/",
          "height": 34
        },
        "outputId": "f65a0dd8-0129-4f21-c5b1-6eeec0091414"
      },
      "source": [
        "test_essay_test = []\n",
        "# tqdm is for printing the status bar\n",
        "for sentence in tqdm(X_test['essay'].values):\n",
        "    sent = decontracted(sentence)\n",
        "    sent = sent.replace('\\\\r', ' ')\n",
        "    sent = sent.replace('\\\\\"', ' ')\n",
        "    sent = sent.replace('\\\\n', ' ')\n",
        "    sent = re.sub('[^A-Za-z0-9]+', ' ', sent)\n",
        "    # https://gist.github.com/sebleier/554280\n",
        "    sent = ' '.join(e for e in sent.split() if e.lower() not in stopwords)\n",
        "    test_essay_test.append(sent.lower().strip())"
      ],
      "execution_count": 26,
      "outputs": [
        {
          "output_type": "stream",
          "text": [
            "100%|██████████| 36052/36052 [00:21<00:00, 1682.65it/s]\n"
          ],
          "name": "stderr"
        }
      ]
    },
    {
      "cell_type": "code",
      "metadata": {
        "id": "z6rJzx5HLLGH",
        "colab_type": "code",
        "outputId": "9c7af31b-7d4a-4558-89fe-30c95f09eca5",
        "colab": {
          "base_uri": "https://localhost:8080/",
          "height": 34
        }
      },
      "source": [
        "tr_title = []\n",
        "\n",
        "for titles in tqdm(X_tr[\"project_title\"]):\n",
        "    title = decontracted(titles)\n",
        "    title = title.replace('\\\\r', ' ')\n",
        "    title = title.replace('\\\\\"', ' ')\n",
        "    title = title.replace('\\\\n', ' ')\n",
        "    title = re.sub('[^A-Za-z0-9]+', ' ', title)\n",
        "    title = ' '.join(f for f in title.split() if f not in stopwords)\n",
        "    tr_title.append(title.lower().strip())"
      ],
      "execution_count": 0,
      "outputs": [
        {
          "output_type": "stream",
          "text": [
            "100%|██████████| 49041/49041 [00:01<00:00, 39437.75it/s]\n"
          ],
          "name": "stderr"
        }
      ]
    },
    {
      "cell_type": "code",
      "metadata": {
        "id": "CZtJrwgHLLGM",
        "colab_type": "code",
        "outputId": "93ee80f6-f9c4-4463-a216-69edd6621fe4",
        "colab": {
          "base_uri": "https://localhost:8080/",
          "height": 34
        }
      },
      "source": [
        "\n",
        "test_title_test = []\n",
        "\n",
        "for titles in tqdm(X_test[\"project_title\"]):\n",
        "    title = decontracted(titles)\n",
        "    title = title.replace('\\\\r', ' ')\n",
        "    title = title.replace('\\\\\"', ' ')\n",
        "    title = title.replace('\\\\n', ' ')\n",
        "    title = re.sub('[^A-Za-z0-9]+', ' ', title)\n",
        "    title = ' '.join(f for f in title.split() if f not in stopwords)\n",
        "    test_title_test.append(title.lower().strip())"
      ],
      "execution_count": 0,
      "outputs": [
        {
          "output_type": "stream",
          "text": [
            "100%|██████████| 36052/36052 [00:00<00:00, 39410.98it/s]\n"
          ],
          "name": "stderr"
        }
      ]
    },
    {
      "cell_type": "markdown",
      "metadata": {
        "id": "oH7boBjyLLGT",
        "colab_type": "text"
      },
      "source": [
        "### Vectorizing categorical Data"
      ]
    },
    {
      "cell_type": "code",
      "metadata": {
        "id": "3iz--6KkLLGU",
        "colab_type": "code",
        "colab": {}
      },
      "source": [
        "X_tr['teacher_prefix']=X_tr['teacher_prefix'].fillna('mrs')\n",
        "X_test['teacher_prefix']=X_test['teacher_prefix'].fillna('mrs')\n",
        "X_cv['teacher_prefix']=X_cv['teacher_prefix'].fillna('mrs')"
      ],
      "execution_count": 0,
      "outputs": []
    },
    {
      "cell_type": "code",
      "metadata": {
        "id": "9elz93fvLLGW",
        "colab_type": "code",
        "colab": {}
      },
      "source": [
        "# https://stackoverflow.com/questions/21057621/sklearn-labelencoder-with-never-seen-before-values\n",
        "from sklearn.preprocessing import LabelEncoder\n",
        "import numpy as np\n",
        "\n",
        "\n",
        "class LabelEncoderExt(object):\n",
        "    def __init__(self):\n",
        "        \"\"\"\n",
        "        It differs from LabelEncoder by handling new classes and providing a value for it [Unknown]\n",
        "        Unknown will be added in fit and transform will take care of new item. It gives unknown class id\n",
        "        \"\"\"\n",
        "        self.label_encoder = LabelEncoder()\n",
        "        # self.classes_ = self.label_encoder.classes_\n",
        "\n",
        "    def fit(self, data_list):\n",
        "        \"\"\"\n",
        "        This will fit the encoder for all the unique values and introduce unknown value\n",
        "        :param data_list: A list of string\n",
        "        :return: self\n",
        "        \"\"\"\n",
        "        self.label_encoder = self.label_encoder.fit(list(data_list) + ['Unknown'])\n",
        "        self.classes_ = self.label_encoder.classes_\n",
        "\n",
        "        return self\n",
        "\n",
        "    def transform(self, data_list):\n",
        "        \"\"\"\n",
        "        This will transform the data_list to id list where the new values get assigned to Unknown class\n",
        "        :param data_list:\n",
        "        :return:\n",
        "        \"\"\"\n",
        "        new_data_list = list(data_list)\n",
        "        for unique_item in np.unique(data_list):\n",
        "            if unique_item not in self.label_encoder.classes_:\n",
        "                new_data_list = ['Unknown' if x==unique_item else x for x in new_data_list]\n",
        "\n",
        "        return self.label_encoder.transform(new_data_list)"
      ],
      "execution_count": 0,
      "outputs": []
    },
    {
      "cell_type": "code",
      "metadata": {
        "id": "am-FcoCwLLGa",
        "colab_type": "code",
        "colab": {}
      },
      "source": [
        "# we use count vectorizer to convert the values into one \n",
        "\n",
        "vectorizer = LabelEncoderExt()\n",
        "vectorizer=vectorizer.fit(X_tr['project_subject_categories'].values)\n",
        "categories_one_hot_tr = vectorizer.transform(X_tr['project_subject_categories'].values)\n",
        "categories_one_hot_cv = vectorizer.transform(X_cv['project_subject_categories'].values)\n",
        "\n",
        "categories_one_hot_test = vectorizer.transform(X_test['project_subject_categories'].values)"
      ],
      "execution_count": 0,
      "outputs": []
    },
    {
      "cell_type": "code",
      "metadata": {
        "id": "3EoesXtyLLGe",
        "colab_type": "code",
        "colab": {}
      },
      "source": [
        "vectorizer = LabelEncoderExt()\n",
        "vectorizer=vectorizer.fit(X_tr['project_subject_subcategories'].values)\n",
        "sub_categories_one_hot_tr = vectorizer.transform(X_tr['project_subject_subcategories'].values)\n",
        "sub_categories_one_hot_cv = vectorizer.transform(X_cv['project_subject_subcategories'].values)\n",
        "sub_categories_one_hot_test = vectorizer.transform(X_test['project_subject_subcategories'].values)"
      ],
      "execution_count": 0,
      "outputs": []
    },
    {
      "cell_type": "code",
      "metadata": {
        "id": "yjfhNHsoLLGh",
        "colab_type": "code",
        "colab": {}
      },
      "source": [
        "vectorizer =LabelEncoder()\n",
        "vectorizer.fit(X_tr['school_state'].values)\n",
        "state_one_hot_tr=vectorizer.transform(X_tr['school_state'].values)\n",
        "state_one_hot_cv=vectorizer.transform(X_cv['school_state'].values)\n",
        "state_one_hot_test=vectorizer.transform(X_test['school_state'].values)\n"
      ],
      "execution_count": 0,
      "outputs": []
    },
    {
      "cell_type": "code",
      "metadata": {
        "id": "-AYzc5xBLLGj",
        "colab_type": "code",
        "colab": {}
      },
      "source": [
        "vectorizer =LabelEncoder()\n",
        "vectorizer.fit(X_tr['project_grade_category'].values)\n",
        "project_grade_category_tr=vectorizer.transform(X_tr['project_grade_category'].values)\n",
        "project_grade_category_cv=vectorizer.transform(X_cv['project_grade_category'].values)\n",
        "project_grade_category_test=vectorizer.transform(X_test['project_grade_category'].values)\n"
      ],
      "execution_count": 0,
      "outputs": []
    },
    {
      "cell_type": "code",
      "metadata": {
        "id": "BGx3fAFXLLGm",
        "colab_type": "code",
        "colab": {}
      },
      "source": [
        "vectorizer = LabelEncoder()\n",
        "vectorizer.fit(X_tr['teacher_prefix'].values)\n",
        "teacher_prefix_tr=vectorizer.transform(X_tr['teacher_prefix'].values)\n",
        "teacher_prefix_cv=vectorizer.transform(X_cv['teacher_prefix'].values)\n",
        "teacher_prefix_test=vectorizer.transform(X_test['teacher_prefix'].values)"
      ],
      "execution_count": 0,
      "outputs": []
    },
    {
      "cell_type": "code",
      "metadata": {
        "id": "ANpSpNNIfqut",
        "colab_type": "code",
        "colab": {
          "base_uri": "https://localhost:8080/",
          "height": 34
        },
        "outputId": "dbd76b4e-4090-411e-c4cc-9b5851d7e43e"
      },
      "source": [
        "len(teacher_prefix_tr)"
      ],
      "execution_count": 32,
      "outputs": [
        {
          "output_type": "execute_result",
          "data": {
            "text/plain": [
              "49041"
            ]
          },
          "metadata": {
            "tags": []
          },
          "execution_count": 32
        }
      ]
    },
    {
      "cell_type": "markdown",
      "metadata": {
        "id": "9uoT8X22LLGo",
        "colab_type": "text"
      },
      "source": [
        "### Embedding categorical Data"
      ]
    },
    {
      "cell_type": "code",
      "metadata": {
        "id": "IyTPAkATLLGp",
        "colab_type": "code",
        "colab": {
          "base_uri": "https://localhost:8080/",
          "height": 63
        },
        "outputId": "8e5fd3fa-a700-49e0-fa7e-d145e02ebc2f"
      },
      "source": [
        "from tensorflow.keras.preprocessing import sequence"
      ],
      "execution_count": 34,
      "outputs": [
        {
          "output_type": "display_data",
          "data": {
            "text/html": [
              "<p style=\"color: red;\">\n",
              "The default version of TensorFlow in Colab will soon switch to TensorFlow 2.x.<br>\n",
              "We recommend you <a href=\"https://www.tensorflow.org/guide/migrate\" target=\"_blank\">upgrade</a> now \n",
              "or ensure your notebook will continue to use TensorFlow 1.x via the <code>%tensorflow_version 1.x</code> magic:\n",
              "<a href=\"https://colab.research.google.com/notebooks/tensorflow_version.ipynb\" target=\"_blank\">more info</a>.</p>\n"
            ],
            "text/plain": [
              "<IPython.core.display.HTML object>"
            ]
          },
          "metadata": {
            "tags": []
          }
        }
      ]
    },
    {
      "cell_type": "code",
      "metadata": {
        "id": "TVnllXJ1LLGr",
        "colab_type": "code",
        "colab": {}
      },
      "source": [
        "import numpy as np\n",
        "from tensorflow.keras.models import Sequential\n",
        "from tensorflow.keras.layers import Embedding\n",
        "from tensorflow.keras.layers import Dense, Input , Dropout\n",
        "from tensorflow.keras.layers import Flatten\n",
        "from tensorflow.keras.layers import concatenate"
      ],
      "execution_count": 0,
      "outputs": []
    },
    {
      "cell_type": "code",
      "metadata": {
        "id": "3KwgKIYmLLGu",
        "colab_type": "code",
        "colab": {
          "base_uri": "https://localhost:8080/",
          "height": 139
        },
        "outputId": "3930b637-6721-4636-e483-c8b1e5ffa9c1"
      },
      "source": [
        "unique_cat  = X_tr[\"project_subject_subcategories\"].nunique()\n",
        "embsize_cat = int(min(np.ceil((unique_cat)/2), 50 ))\n",
        "sub_categories = Input(shape=(1,))\n",
        "embedding = Embedding(401, embsize_cat, input_length=1)(sub_categories)\n",
        "flatten_project_subject_subcategories = Flatten()(embedding)\n",
        "\n",
        "\n",
        "unique_prefix  = X_tr[\"teacher_prefix\"].nunique()\n",
        "embsize_prefix = int(min(np.ceil((unique_prefix)/2), 50 ))\n",
        "teacher_prefix = Input(shape=(1,))\n",
        "embedding = Embedding(5, embsize_prefix, input_length=1)(teacher_prefix)\n",
        "flatten_teacher_prefix = Flatten()(embedding)\n",
        "\n",
        "unique_category  = X_tr[\"project_subject_categories\"].nunique()\n",
        "embsize_category = int(min(np.ceil((unique_category)/2), 50 ))\n",
        "categories = Input(shape=(1,))\n",
        "embedding = Embedding(51, embsize_category, input_length=1)(categories)\n",
        "flatten_categories = Flatten()(embedding)\n",
        "\n",
        "unique_state  = X_tr[\"school_state\"].nunique()\n",
        "embsize_state = int(min(np.ceil((unique_state)/2), 50 ))\n",
        "school_state = Input(shape=(1,))\n",
        "embedding = Embedding(51, embsize_state, input_length=1)(school_state)\n",
        "flatten_school_state = Flatten()(embedding)\n",
        "\n",
        "unique_grade  = X_tr[\"project_grade_category\"].nunique()\n",
        "embsize_grade = int(min(np.ceil((unique_grade)/2), 50 ))\n",
        "project_grade_category = Input(shape=(1,))\n",
        "embedding = Embedding(4, embsize_grade, input_length=1)(project_grade_category)\n",
        "flatten_project_grade_category = Flatten()(embedding)"
      ],
      "execution_count": 36,
      "outputs": [
        {
          "output_type": "stream",
          "text": [
            "WARNING:tensorflow:From /usr/local/lib/python3.6/dist-packages/tensorflow_core/python/keras/initializers.py:119: calling RandomUniform.__init__ (from tensorflow.python.ops.init_ops) with dtype is deprecated and will be removed in a future version.\n",
            "Instructions for updating:\n",
            "Call initializer instance with the dtype argument instead of passing it to the constructor\n",
            "WARNING:tensorflow:From /usr/local/lib/python3.6/dist-packages/tensorflow_core/python/ops/resource_variable_ops.py:1630: calling BaseResourceVariable.__init__ (from tensorflow.python.ops.resource_variable_ops) with constraint is deprecated and will be removed in a future version.\n",
            "Instructions for updating:\n",
            "If using Keras pass *_constraint arguments to layers.\n"
          ],
          "name": "stdout"
        }
      ]
    },
    {
      "cell_type": "code",
      "metadata": {
        "id": "06OTP8ZpLLGw",
        "colab_type": "code",
        "colab": {
          "base_uri": "https://localhost:8080/",
          "height": 34
        },
        "outputId": "e0177647-fa02-4aee-a2c6-185476a2d8a2"
      },
      "source": [
        "flatten_project_grade_category.shape"
      ],
      "execution_count": 37,
      "outputs": [
        {
          "output_type": "execute_result",
          "data": {
            "text/plain": [
              "TensorShape([Dimension(None), Dimension(2)])"
            ]
          },
          "metadata": {
            "tags": []
          },
          "execution_count": 37
        }
      ]
    },
    {
      "cell_type": "code",
      "metadata": {
        "id": "ioyussacLLGz",
        "colab_type": "code",
        "colab": {}
      },
      "source": [
        "import numpy as np\n",
        "from tensorflow.keras.models import Sequential\n",
        "from tensorflow.keras.layers import Embedding\n",
        "\n",
        "model = Sequential()\n",
        "model.add(Embedding(401, 2, input_length=1))\n",
        "output_array_sub_categories_one_hot_tr = model.predict(sub_categories_one_hot_tr)\n",
        "output_array_sub_categories_one_hot_cv = model.predict(sub_categories_one_hot_cv)\n",
        "output_array_sub_categories_one_hot_test = model.predict(sub_categories_one_hot_test)"
      ],
      "execution_count": 0,
      "outputs": []
    },
    {
      "cell_type": "markdown",
      "metadata": {
        "id": "EVZF6GcvLLG1",
        "colab_type": "text"
      },
      "source": [
        "### Numerical Features"
      ]
    },
    {
      "cell_type": "code",
      "metadata": {
        "id": "FghzOxJ3LLG1",
        "colab_type": "code",
        "colab": {
          "base_uri": "https://localhost:8080/",
          "height": 366
        },
        "outputId": "e563cda1-c25d-4089-bb93-f01d9f85385d"
      },
      "source": [
        "price_data = resource_data.groupby('id').agg({'price':'sum', 'quantity':'sum'}).reset_index()\n",
        "#project_data = pd.merge(project_data, price_data, on='id', how='left')\n",
        "X_tr=pd.merge(X_tr,price_data,on='id',how='left')\n",
        "X_cv=pd.merge(X_cv,price_data,on='id',how='left')\n",
        "X_test=pd.merge(X_test,price_data,on='id',how='left')\n",
        "X_tr.head(3)"
      ],
      "execution_count": 39,
      "outputs": [
        {
          "output_type": "execute_result",
          "data": {
            "text/html": [
              "<div>\n",
              "<style scoped>\n",
              "    .dataframe tbody tr th:only-of-type {\n",
              "        vertical-align: middle;\n",
              "    }\n",
              "\n",
              "    .dataframe tbody tr th {\n",
              "        vertical-align: top;\n",
              "    }\n",
              "\n",
              "    .dataframe thead th {\n",
              "        text-align: right;\n",
              "    }\n",
              "</style>\n",
              "<table border=\"1\" class=\"dataframe\">\n",
              "  <thead>\n",
              "    <tr style=\"text-align: right;\">\n",
              "      <th></th>\n",
              "      <th>Unnamed: 0</th>\n",
              "      <th>id</th>\n",
              "      <th>teacher_id</th>\n",
              "      <th>teacher_prefix</th>\n",
              "      <th>school_state</th>\n",
              "      <th>project_submitted_datetime</th>\n",
              "      <th>project_grade_category</th>\n",
              "      <th>project_subject_categories</th>\n",
              "      <th>project_subject_subcategories</th>\n",
              "      <th>project_title</th>\n",
              "      <th>project_essay_1</th>\n",
              "      <th>project_essay_2</th>\n",
              "      <th>project_essay_3</th>\n",
              "      <th>project_essay_4</th>\n",
              "      <th>project_resource_summary</th>\n",
              "      <th>teacher_number_of_previously_posted_projects</th>\n",
              "      <th>essay</th>\n",
              "      <th>price</th>\n",
              "      <th>quantity</th>\n",
              "    </tr>\n",
              "  </thead>\n",
              "  <tbody>\n",
              "    <tr>\n",
              "      <th>0</th>\n",
              "      <td>102811</td>\n",
              "      <td>p048940</td>\n",
              "      <td>2cb874bd7f62f9d15ae9208888ba9b2d</td>\n",
              "      <td>mrs</td>\n",
              "      <td>ar</td>\n",
              "      <td>2016-11-09 11:32:54</td>\n",
              "      <td>grades_3_5</td>\n",
              "      <td>literacy_language_math_science</td>\n",
              "      <td>literature_writing_mathematics</td>\n",
              "      <td>Wobble Baby Wobble Baby</td>\n",
              "      <td>I work at a neighborhood school with a wide va...</td>\n",
              "      <td>Students have to move! Students these days are...</td>\n",
              "      <td>NaN</td>\n",
              "      <td>NaN</td>\n",
              "      <td>My students need wobble chairs, wobble cushion...</td>\n",
              "      <td>3</td>\n",
              "      <td>I work at a neighborhood school with a wide va...</td>\n",
              "      <td>137.69</td>\n",
              "      <td>12</td>\n",
              "    </tr>\n",
              "    <tr>\n",
              "      <th>1</th>\n",
              "      <td>138157</td>\n",
              "      <td>p121677</td>\n",
              "      <td>028156225cf81c84e00596df96bc1e21</td>\n",
              "      <td>ms</td>\n",
              "      <td>ga</td>\n",
              "      <td>2016-10-26 13:27:22</td>\n",
              "      <td>grades_prek_2</td>\n",
              "      <td>literacy_language</td>\n",
              "      <td>literature_writing</td>\n",
              "      <td>Enough for everyone!</td>\n",
              "      <td>My classroom is filled with eager, smiling and...</td>\n",
              "      <td>The pencil sharpener will be used daily and wi...</td>\n",
              "      <td>NaN</td>\n",
              "      <td>NaN</td>\n",
              "      <td>My students need headphones that work for each...</td>\n",
              "      <td>0</td>\n",
              "      <td>My classroom is filled with eager, smiling and...</td>\n",
              "      <td>92.66</td>\n",
              "      <td>9</td>\n",
              "    </tr>\n",
              "    <tr>\n",
              "      <th>2</th>\n",
              "      <td>16638</td>\n",
              "      <td>p145755</td>\n",
              "      <td>1e38f311579fd51da5bd78ce013447aa</td>\n",
              "      <td>mrs</td>\n",
              "      <td>az</td>\n",
              "      <td>2017-03-30 11:42:09</td>\n",
              "      <td>grades_prek_2</td>\n",
              "      <td>math_science</td>\n",
              "      <td>appliedsciences_mathematics</td>\n",
              "      <td>STEM / STEAM Bristle Bot Robots</td>\n",
              "      <td>Do you remember when school was so confusing? ...</td>\n",
              "      <td>Can you picture small groups of children scatt...</td>\n",
              "      <td>NaN</td>\n",
              "      <td>NaN</td>\n",
              "      <td>My students need Bristle Bots because are the ...</td>\n",
              "      <td>6</td>\n",
              "      <td>Do you remember when school was so confusing? ...</td>\n",
              "      <td>38.46</td>\n",
              "      <td>17</td>\n",
              "    </tr>\n",
              "  </tbody>\n",
              "</table>\n",
              "</div>"
            ],
            "text/plain": [
              "   Unnamed: 0       id  ...   price quantity\n",
              "0      102811  p048940  ...  137.69       12\n",
              "1      138157  p121677  ...   92.66        9\n",
              "2       16638  p145755  ...   38.46       17\n",
              "\n",
              "[3 rows x 19 columns]"
            ]
          },
          "metadata": {
            "tags": []
          },
          "execution_count": 39
        }
      ]
    },
    {
      "cell_type": "code",
      "metadata": {
        "id": "CuXjLW35LLG3",
        "colab_type": "code",
        "colab": {}
      },
      "source": [
        "from sklearn.preprocessing import StandardScaler\n",
        "scaler = StandardScaler()\n",
        "scaler.fit(X_tr['price'].values.reshape(-1, 1))\n",
        "price_normalized_tr=scaler.transform(X_tr['price'].values.reshape(-1, 1) )\n",
        "price_normalized_cv=scaler.transform(X_cv['price'].values.reshape(-1, 1) )\n",
        "price_normalized_test=scaler.transform(X_test['price'].values.reshape(-1, 1) )"
      ],
      "execution_count": 0,
      "outputs": []
    },
    {
      "cell_type": "code",
      "metadata": {
        "id": "dKu_RtjeLLG6",
        "colab_type": "code",
        "colab": {
          "base_uri": "https://localhost:8080/",
          "height": 136
        },
        "outputId": "6bfa0f24-bc61-4a9a-a6c5-4f6f1c482e3b"
      },
      "source": [
        "price_normalized_tr"
      ],
      "execution_count": 41,
      "outputs": [
        {
          "output_type": "execute_result",
          "data": {
            "text/plain": [
              "array([[-0.44509677],\n",
              "       [-0.57035222],\n",
              "       [-0.72111494],\n",
              "       ...,\n",
              "       [ 0.23837016],\n",
              "       [ 0.15019344],\n",
              "       [-0.76058584]])"
            ]
          },
          "metadata": {
            "tags": []
          },
          "execution_count": 41
        }
      ]
    },
    {
      "cell_type": "code",
      "metadata": {
        "id": "gHF1dBbsLLG8",
        "colab_type": "code",
        "colab": {}
      },
      "source": [
        "scaler = StandardScaler()\n",
        "scaler.fit(X_tr['teacher_number_of_previously_posted_projects'].values.reshape(-1, 1))\n",
        "teacher_prv_postprjct_normalise_tr=scaler.transform(X_tr['teacher_number_of_previously_posted_projects'].values.reshape(-1, 1) )\n",
        "teacher_prv_postprjct_normalise_cv=scaler.transform(X_cv['teacher_number_of_previously_posted_projects'].values.reshape(-1, 1) )\n",
        "teacher_prv_postprjct_normalise_test=scaler.transform(X_test['teacher_number_of_previously_posted_projects'].values.reshape(-1, 1) )"
      ],
      "execution_count": 0,
      "outputs": []
    },
    {
      "cell_type": "code",
      "metadata": {
        "id": "ecB2D1MlLLHA",
        "colab_type": "code",
        "colab": {
          "base_uri": "https://localhost:8080/",
          "height": 136
        },
        "outputId": "446b8f1f-3a8a-4f1e-99c2-3fecd8da48aa"
      },
      "source": [
        "teacher_prv_postprjct_normalise_tr"
      ],
      "execution_count": 43,
      "outputs": [
        {
          "output_type": "execute_result",
          "data": {
            "text/plain": [
              "array([[-0.29479258],\n",
              "       [-0.40352095],\n",
              "       [-0.18606421],\n",
              "       ...,\n",
              "       [-0.40352095],\n",
              "       [-0.14982142],\n",
              "       [-0.33103537]])"
            ]
          },
          "metadata": {
            "tags": []
          },
          "execution_count": 43
        }
      ]
    },
    {
      "cell_type": "code",
      "metadata": {
        "id": "uA82ZkFSLLHH",
        "colab_type": "code",
        "colab": {}
      },
      "source": [
        "scaler = StandardScaler()\n",
        "scaler.fit(X_tr['quantity'].values.reshape(-1, 1))\n",
        "quantity_normalised_tr=scaler.transform(X_tr['quantity'].values.reshape(-1, 1) )\n",
        "quantity_normalised_cv=scaler.transform(X_cv['quantity'].values.reshape(-1, 1) )\n",
        "quantity_normalised_test=scaler.transform(X_test['quantity'].values.reshape(-1, 1) )"
      ],
      "execution_count": 0,
      "outputs": []
    },
    {
      "cell_type": "code",
      "metadata": {
        "id": "GgxrwZ-PLLHK",
        "colab_type": "code",
        "colab": {
          "base_uri": "https://localhost:8080/",
          "height": 119
        },
        "outputId": "cfa9e1d4-00da-4565-f257-370cae9ab92a"
      },
      "source": [
        "print(price_normalized_tr.shape)\n",
        "print(price_normalized_test.shape)\n",
        "\n",
        "print(teacher_prv_postprjct_normalise_test.shape)\n",
        "print(teacher_prv_postprjct_normalise_tr.shape)\n",
        "\n",
        "print(quantity_normalised_tr.T.shape)\n",
        "print(quantity_normalised_test.shape)"
      ],
      "execution_count": 45,
      "outputs": [
        {
          "output_type": "stream",
          "text": [
            "(49041, 1)\n",
            "(36052, 1)\n",
            "(36052, 1)\n",
            "(49041, 1)\n",
            "(1, 49041)\n",
            "(36052, 1)\n"
          ],
          "name": "stdout"
        }
      ]
    },
    {
      "cell_type": "code",
      "metadata": {
        "id": "fl5mJRWkLLHL",
        "colab_type": "code",
        "colab": {}
      },
      "source": [
        "numerical_tr=np.hstack((price_normalized_tr,teacher_prv_postprjct_normalise_tr,quantity_normalised_tr))\n",
        "numerical_cv=np.hstack((price_normalized_cv,teacher_prv_postprjct_normalise_cv,quantity_normalised_cv))\n",
        "numerical_test=np.hstack((price_normalized_test,teacher_prv_postprjct_normalise_test,quantity_normalised_test))"
      ],
      "execution_count": 0,
      "outputs": []
    },
    {
      "cell_type": "code",
      "metadata": {
        "id": "bQMLeiyULLHN",
        "colab_type": "code",
        "outputId": "307c4cae-1382-46d6-b9d9-d545b3548201",
        "colab": {
          "base_uri": "https://localhost:8080/",
          "height": 34
        }
      },
      "source": [
        "numerical_test.shape"
      ],
      "execution_count": 47,
      "outputs": [
        {
          "output_type": "execute_result",
          "data": {
            "text/plain": [
              "(36052, 3)"
            ]
          },
          "metadata": {
            "tags": []
          },
          "execution_count": 47
        }
      ]
    },
    {
      "cell_type": "code",
      "metadata": {
        "id": "Vdh15NohLLHQ",
        "colab_type": "code",
        "colab": {}
      },
      "source": [
        "Input_model = Input(shape=(3,),name=\"numerical_data\")\n",
        "\n",
        "# layer 1\n",
        "layer_1 = Dense(units=1,activation='relu',kernel_initializer='he_normal',name=\"layer_1\")(Input_model)"
      ],
      "execution_count": 0,
      "outputs": []
    },
    {
      "cell_type": "code",
      "metadata": {
        "id": "SkwyLvssLLHa",
        "colab_type": "code",
        "outputId": "9809043a-a87b-4dbf-bdb2-8f658a807aaf",
        "colab": {
          "base_uri": "https://localhost:8080/",
          "height": 34
        }
      },
      "source": [
        "layer_1"
      ],
      "execution_count": 62,
      "outputs": [
        {
          "output_type": "execute_result",
          "data": {
            "text/plain": [
              "<tf.Tensor 'layer_1/Relu:0' shape=(?, 1) dtype=float32>"
            ]
          },
          "metadata": {
            "tags": []
          },
          "execution_count": 62
        }
      ]
    },
    {
      "cell_type": "markdown",
      "metadata": {
        "id": "Xc_OXylXLLHg",
        "colab_type": "text"
      },
      "source": [
        "### Text Data"
      ]
    },
    {
      "cell_type": "code",
      "metadata": {
        "id": "XsHns0Ns9iMo",
        "colab_type": "code",
        "colab": {}
      },
      "source": [
        ""
      ],
      "execution_count": 0,
      "outputs": []
    },
    {
      "cell_type": "code",
      "metadata": {
        "id": "zA2byuud9i_h",
        "colab_type": "code",
        "colab": {
          "base_uri": "https://localhost:8080/",
          "height": 122
        },
        "outputId": "ff8f9912-769c-4187-d166-f0309031af75"
      },
      "source": [
        "from google.colab import drive\n",
        "\n",
        "drive.mount('/content/drive/')"
      ],
      "execution_count": 49,
      "outputs": [
        {
          "output_type": "stream",
          "text": [
            "Go to this URL in a browser: https://accounts.google.com/o/oauth2/auth?client_id=947318989803-6bn6qk8qdgf4n4g3pfee6491hc0brc4i.apps.googleusercontent.com&redirect_uri=urn%3aietf%3awg%3aoauth%3a2.0%3aoob&response_type=code&scope=email%20https%3a%2f%2fwww.googleapis.com%2fauth%2fdocs.test%20https%3a%2f%2fwww.googleapis.com%2fauth%2fdrive%20https%3a%2f%2fwww.googleapis.com%2fauth%2fdrive.photos.readonly%20https%3a%2f%2fwww.googleapis.com%2fauth%2fpeopleapi.readonly\n",
            "\n",
            "Enter your authorization code:\n",
            "··········\n",
            "Mounted at /content/drive/\n"
          ],
          "name": "stdout"
        }
      ]
    },
    {
      "cell_type": "code",
      "metadata": {
        "colab_type": "code",
        "outputId": "ff7b51d7-e825-4a95-f008-c33b5f11da6a",
        "id": "eruaHdC79jrm",
        "colab": {
          "base_uri": "https://localhost:8080/",
          "height": 34
        }
      },
      "source": [
        "from numpy import array\n",
        "from numpy import asarray\n",
        "from numpy import zeros\n",
        "embeddings_index = dict()\n",
        "f = open('/content/drive/My Drive/glove.6B.200d.txt')\n",
        "for line in f:\n",
        "    values = line.split()\n",
        "    word = values[0]\n",
        "    coefs = asarray(values[1:], dtype='float32')\n",
        "    embeddings_index[word] = coefs\n",
        "f.close()\n",
        "print('Loaded %s word vectors.' % len(embeddings_index))"
      ],
      "execution_count": 64,
      "outputs": [
        {
          "output_type": "stream",
          "text": [
            "Loaded 400000 word vectors.\n"
          ],
          "name": "stdout"
        }
      ]
    },
    {
      "cell_type": "code",
      "metadata": {
        "colab_type": "code",
        "id": "c-bC0Qzg9jrr",
        "colab": {}
      },
      "source": [
        "def padded(encoded_docs):  \n",
        "    max_length = 350\n",
        "    padded_docs = pad_sequences(encoded_docs, maxlen=max_length, padding='post')\n",
        "    return padded_docs"
      ],
      "execution_count": 0,
      "outputs": []
    },
    {
      "cell_type": "code",
      "metadata": {
        "colab_type": "code",
        "id": "DPhk66wd9jru",
        "colab": {}
      },
      "source": [
        "from keras.preprocessing.text import Tokenizer\n",
        "from keras.preprocessing.sequence import pad_sequences\n",
        "# prepare tokenizer\n",
        "t = Tokenizer()\n",
        "t.fit_on_texts(tr_essay)\n",
        "vocab_size = len(t.word_index) + 1\n",
        "# integer encode the documents\n",
        "encoded_docs_tr = t.texts_to_sequences(tr_essay)\n",
        "essay_padded_tr = padded(encoded_docs_tr)"
      ],
      "execution_count": 0,
      "outputs": []
    },
    {
      "cell_type": "code",
      "metadata": {
        "colab_type": "code",
        "id": "5ldZqwlk9jrx",
        "colab": {}
      },
      "source": [
        "encoded_docs_cv = t.texts_to_sequences(cv_essay)\n",
        "essay_padded_cv = padded(encoded_docs_cv)"
      ],
      "execution_count": 0,
      "outputs": []
    },
    {
      "cell_type": "code",
      "metadata": {
        "colab_type": "code",
        "outputId": "5ed3bf83-82f2-4c1a-87e7-97420618c440",
        "id": "jCdGz7qq9jr0",
        "colab": {
          "base_uri": "https://localhost:8080/",
          "height": 442
        }
      },
      "source": [
        "print(essay_padded_cv[0])"
      ],
      "execution_count": 394,
      "outputs": [
        {
          "output_type": "stream",
          "text": [
            "[ 281   65   31    4 1310 2018  901  495   67   69 2234    1    6   90\n",
            "    1   37  432   16 1585  337   39   34  323  693 3430 3434  313    1\n",
            "   17    2   37  432   16   84    6  216 1773 1020    1  947  151  213\n",
            "  181    2  678  886   17  700  262  309 3422  156 2749  570   11 1773\n",
            "   37   16   39    1  156   76   10  419  202 1544  523  606   90    1\n",
            "  462    4 3712   34 1713 1096  109    2   24 1688   39    1  210   34\n",
            "   76 1372  205  292   32  190  293  154   34   26 3480  365    1    3\n",
            "   39   76   10 1026  127  132  313  281    4  465 2935 1643  814   12\n",
            "  172   39  206  981  154    1  702  137   14   12  190  722  162 3158\n",
            "  178  293 2732    1 2206   34   96  310    3  281    4   34 1096  252\n",
            "  981 2206 2044    3   73    9    0    0    0    0    0    0    0    0\n",
            "    0    0    0    0    0    0    0    0    0    0    0    0    0    0\n",
            "    0    0    0    0    0    0    0    0    0    0    0    0    0    0\n",
            "    0    0    0    0    0    0    0    0    0    0    0    0    0    0\n",
            "    0    0    0    0    0    0    0    0    0    0    0    0    0    0\n",
            "    0    0    0    0    0    0    0    0    0    0    0    0    0    0\n",
            "    0    0    0    0    0    0    0    0    0    0    0    0    0    0\n",
            "    0    0    0    0    0    0    0    0    0    0    0    0    0    0\n",
            "    0    0    0    0    0    0    0    0    0    0    0    0    0    0\n",
            "    0    0    0    0    0    0    0    0    0    0    0    0    0    0\n",
            "    0    0    0    0    0    0    0    0    0    0    0    0    0    0\n",
            "    0    0    0    0    0    0    0    0    0    0    0    0    0    0\n",
            "    0    0    0    0    0    0    0    0    0    0    0    0    0    0\n",
            "    0    0    0    0    0    0    0    0    0    0    0    0    0    0\n",
            "    0    0    0    0    0    0    0    0    0    0    0    0    0    0]\n"
          ],
          "name": "stdout"
        }
      ]
    },
    {
      "cell_type": "code",
      "metadata": {
        "colab_type": "code",
        "id": "r5-ukU4Q9jr1",
        "colab": {}
      },
      "source": [
        "encoded_docs_test = t.texts_to_sequences(test_essay_test)\n",
        "essay_padded_test = padded(encoded_docs_test)"
      ],
      "execution_count": 0,
      "outputs": []
    },
    {
      "cell_type": "code",
      "metadata": {
        "colab_type": "code",
        "outputId": "87e9999f-d49c-425b-ea7c-c7659356b454",
        "id": "bHa-jk109jr3",
        "colab": {
          "base_uri": "https://localhost:8080/",
          "height": 442
        }
      },
      "source": [
        "print(essay_padded_test[0])"
      ],
      "execution_count": 459,
      "outputs": [
        {
          "output_type": "stream",
          "text": [
            "[   1   84    6   14   99  647  373  160    2 2379   80  123   30 1451\n",
            "  318  126  319   46    3   74  232    1  160  355   15 8716   99  205\n",
            "  167    3  172    5    6   48   41 2027   41   48    6  399   23 1158\n",
            "    1   32  355  168 3456  141 2145  205  186   46   11  272   61  409\n",
            " 2283  572  366  986    1 3320  384 4440  986 2554  259 1150   11 1061\n",
            "  168  183  108    4  186   32  598 1637  256  110   46   27   63    1\n",
            "  267  708    4  124   46   11  677  371  974   35  137    1   99   46\n",
            "   11  310  162   22  445  107  102  267  272    4    9    0    0    0\n",
            "    0    0    0    0    0    0    0    0    0    0    0    0    0    0\n",
            "    0    0    0    0    0    0    0    0    0    0    0    0    0    0\n",
            "    0    0    0    0    0    0    0    0    0    0    0    0    0    0\n",
            "    0    0    0    0    0    0    0    0    0    0    0    0    0    0\n",
            "    0    0    0    0    0    0    0    0    0    0    0    0    0    0\n",
            "    0    0    0    0    0    0    0    0    0    0    0    0    0    0\n",
            "    0    0    0    0    0    0    0    0    0    0    0    0    0    0\n",
            "    0    0    0    0    0    0    0    0    0    0    0    0    0    0\n",
            "    0    0    0    0    0    0    0    0    0    0    0    0    0    0\n",
            "    0    0    0    0    0    0    0    0    0    0    0    0    0    0\n",
            "    0    0    0    0    0    0    0    0    0    0    0    0    0    0\n",
            "    0    0    0    0    0    0    0    0    0    0    0    0    0    0\n",
            "    0    0    0    0    0    0    0    0    0    0    0    0    0    0\n",
            "    0    0    0    0    0    0    0    0    0    0    0    0    0    0\n",
            "    0    0    0    0    0    0    0    0    0    0    0    0    0    0\n",
            "    0    0    0    0    0    0    0    0    0    0    0    0    0    0\n",
            "    0    0    0    0    0    0    0    0    0    0    0    0    0    0]\n"
          ],
          "name": "stdout"
        }
      ]
    },
    {
      "cell_type": "code",
      "metadata": {
        "colab_type": "code",
        "outputId": "3c4b915b-ea55-4cc1-d210-ae004e17ab59",
        "id": "y9GPxnPb9jr5",
        "colab": {
          "base_uri": "https://localhost:8080/",
          "height": 34
        }
      },
      "source": [
        "print('Loaded %s word vectors.' % len(embeddings_index))\n",
        "# create a weight matrix for words in training docs\n",
        "embedding_matrix = zeros((vocab_size, 200))\n",
        "for word, i in t.word_index.items():\n",
        "    embedding_vector = embeddings_index.get(word)\n",
        "    if embedding_vector is not None:\n",
        "        embedding_matrix[i] = embedding_vector"
      ],
      "execution_count": 460,
      "outputs": [
        {
          "output_type": "stream",
          "text": [
            "Loaded 400000 word vectors.\n"
          ],
          "name": "stdout"
        }
      ]
    },
    {
      "cell_type": "code",
      "metadata": {
        "id": "SwrfC0SrCdbk",
        "colab_type": "code",
        "colab": {
          "base_uri": "https://localhost:8080/",
          "height": 34
        },
        "outputId": "fac1491c-1786-4377-a904-b197255cce6c"
      },
      "source": [
        "print(vocab_size)"
      ],
      "execution_count": 398,
      "outputs": [
        {
          "output_type": "stream",
          "text": [
            "41213\n"
          ],
          "name": "stdout"
        }
      ]
    },
    {
      "cell_type": "code",
      "metadata": {
        "colab_type": "code",
        "id": "Hj3Yewml9jr-",
        "colab": {}
      },
      "source": [
        "from tensorflow.keras.layers import LSTM\n",
        "text = Input(shape=(350,))\n",
        "embedding = Embedding(vocab_size, 200, input_length=350,weights=[embedding_matrix])(text)\n",
        "embedding1=LSTM(128,recurrent_dropout=0.5,return_sequences=True)(embedding)\n",
        "flatten_text = Flatten()(embedding1)"
      ],
      "execution_count": 0,
      "outputs": []
    },
    {
      "cell_type": "code",
      "metadata": {
        "colab_type": "code",
        "outputId": "d8d82a32-8253-4b36-bb8f-3cb4739b7e43",
        "id": "p3KkvkKA9jsA",
        "colab": {
          "base_uri": "https://localhost:8080/",
          "height": 34
        }
      },
      "source": [
        "flatten_text"
      ],
      "execution_count": 462,
      "outputs": [
        {
          "output_type": "execute_result",
          "data": {
            "text/plain": [
              "<tf.Tensor 'flatten_51/Reshape:0' shape=(?, 44800) dtype=float32>"
            ]
          },
          "metadata": {
            "tags": []
          },
          "execution_count": 462
        }
      ]
    },
    {
      "cell_type": "code",
      "metadata": {
        "id": "LKaJL2z89i5-",
        "colab_type": "code",
        "colab": {}
      },
      "source": [
        ""
      ],
      "execution_count": 0,
      "outputs": []
    },
    {
      "cell_type": "markdown",
      "metadata": {
        "id": "Au-PSE3ELLIM",
        "colab_type": "text"
      },
      "source": [
        "### concatenation"
      ]
    },
    {
      "cell_type": "code",
      "metadata": {
        "id": "XStR1BVJLLIM",
        "colab_type": "code",
        "colab": {}
      },
      "source": [
        "from tensorflow.keras.layers import concatenate\n",
        "concat_layer=concatenate(inputs=[flatten_categories,flatten_project_grade_category,flatten_school_state,flatten_teacher_prefix,\n",
        "                                 flatten_project_subject_subcategories,flatten_text,layer_1],name=\"concat\" )"
      ],
      "execution_count": 0,
      "outputs": []
    },
    {
      "cell_type": "code",
      "metadata": {
        "id": "YeimHYKALLIT",
        "colab_type": "code",
        "outputId": "dd8399ba-7279-4af5-8a46-e9a9cf74f917",
        "colab": {
          "base_uri": "https://localhost:8080/",
          "height": 34
        }
      },
      "source": [
        "concat_layer"
      ],
      "execution_count": 347,
      "outputs": [
        {
          "output_type": "execute_result",
          "data": {
            "text/plain": [
              "<tf.Tensor 'concat_4/concat:0' shape=(?, 44907) dtype=float32>"
            ]
          },
          "metadata": {
            "tags": []
          },
          "execution_count": 347
        }
      ]
    },
    {
      "cell_type": "code",
      "metadata": {
        "id": "ntyAlOb6LLIW",
        "colab_type": "code",
        "colab": {}
      },
      "source": [
        "from tensorflow.keras.layers import Dense,concatenate,Activation,Dropout,Input\n",
        "from tensorflow.keras.models import Model\n",
        "from tensorflow.keras.layers import BatchNormalization\n",
        "from keras.regularizers import l1\n",
        "from keras.layers import LeakyReLU"
      ],
      "execution_count": 0,
      "outputs": []
    },
    {
      "cell_type": "code",
      "metadata": {
        "id": "fia5fEc2LLIY",
        "colab_type": "code",
        "colab": {}
      },
      "source": [
        "normalize=BatchNormalization()(concat_layer)\n",
        "#layer1 = Dense(units=256,activation='relu',kernel_initializer='glorot_normal',kernel_regularizer=l2(0.001),name=\"layer1\")(normalize)\n",
        "#layer1 = Dropout(.65)(layer1)\n",
        "layer2 = Dense(units=64,activation='relu',kernel_initializer='he_normal',kernel_regularizer=l2(),name=\"layer2\")(normalize)\n",
        "layer2 = Dropout(.65)(layer2)\n",
        "normalize=BatchNormalization()(layer2)\n",
        "layer3 = Dense(units=32,activation='relu',kernel_initializer='he_normal',kernel_regularizer=l2(),name='layer3')(normalize)\n",
        "layer3 = Dropout(.55)(layer3)\n",
        "layer4 = Dense(units=16,activation='relu',kernel_initializer='he_normal',kernel_regularizer=l2(),name=\"layer4\")(layer3)\n",
        "layer4 = Dropout(.55)(layer4)\n",
        "output = Dense(1,activation='sigmoid',name=\"output\")(layer4)"
      ],
      "execution_count": 0,
      "outputs": []
    },
    {
      "cell_type": "code",
      "metadata": {
        "id": "2GkLhjfQLLIa",
        "colab_type": "code",
        "colab": {}
      },
      "source": [
        "model = Model(inputs=[categories,project_grade_category,school_state,teacher_prefix,sub_categories,text,Input_model],outputs=output)"
      ],
      "execution_count": 0,
      "outputs": []
    },
    {
      "cell_type": "code",
      "metadata": {
        "id": "_RIZZSEBLLIb",
        "colab_type": "code",
        "outputId": "3aa99da9-8445-480d-c361-0ed34749e717",
        "colab": {
          "base_uri": "https://localhost:8080/",
          "height": 1000
        }
      },
      "source": [
        "model.summary()"
      ],
      "execution_count": 467,
      "outputs": [
        {
          "output_type": "stream",
          "text": [
            "Model: \"model_9\"\n",
            "__________________________________________________________________________________________________\n",
            "Layer (type)                    Output Shape         Param #     Connected to                     \n",
            "==================================================================================================\n",
            "input_53 (InputLayer)           [(None, 350)]        0                                            \n",
            "__________________________________________________________________________________________________\n",
            "input_50 (InputLayer)           [(None, 1)]          0                                            \n",
            "__________________________________________________________________________________________________\n",
            "input_52 (InputLayer)           [(None, 1)]          0                                            \n",
            "__________________________________________________________________________________________________\n",
            "input_51 (InputLayer)           [(None, 1)]          0                                            \n",
            "__________________________________________________________________________________________________\n",
            "input_49 (InputLayer)           [(None, 1)]          0                                            \n",
            "__________________________________________________________________________________________________\n",
            "input_48 (InputLayer)           [(None, 1)]          0                                            \n",
            "__________________________________________________________________________________________________\n",
            "embedding_56 (Embedding)        (None, 350, 200)     8695400     input_53[0][0]                   \n",
            "__________________________________________________________________________________________________\n",
            "embedding_53 (Embedding)        (None, 1, 25)        1275        input_50[0][0]                   \n",
            "__________________________________________________________________________________________________\n",
            "embedding_55 (Embedding)        (None, 1, 2)         8           input_52[0][0]                   \n",
            "__________________________________________________________________________________________________\n",
            "embedding_54 (Embedding)        (None, 1, 26)        1326        input_51[0][0]                   \n",
            "__________________________________________________________________________________________________\n",
            "embedding_52 (Embedding)        (None, 1, 3)         15          input_49[0][0]                   \n",
            "__________________________________________________________________________________________________\n",
            "embedding_51 (Embedding)        (None, 1, 50)        20050       input_48[0][0]                   \n",
            "__________________________________________________________________________________________________\n",
            "lstm_6 (LSTM)                   (None, 350, 128)     168448      embedding_56[0][0]               \n",
            "__________________________________________________________________________________________________\n",
            "numerical_data (InputLayer)     [(None, 3)]          0                                            \n",
            "__________________________________________________________________________________________________\n",
            "flatten_48 (Flatten)            (None, 25)           0           embedding_53[0][0]               \n",
            "__________________________________________________________________________________________________\n",
            "flatten_50 (Flatten)            (None, 2)            0           embedding_55[0][0]               \n",
            "__________________________________________________________________________________________________\n",
            "flatten_49 (Flatten)            (None, 26)           0           embedding_54[0][0]               \n",
            "__________________________________________________________________________________________________\n",
            "flatten_47 (Flatten)            (None, 3)            0           embedding_52[0][0]               \n",
            "__________________________________________________________________________________________________\n",
            "flatten_46 (Flatten)            (None, 50)           0           embedding_51[0][0]               \n",
            "__________________________________________________________________________________________________\n",
            "flatten_51 (Flatten)            (None, 44800)        0           lstm_6[0][0]                     \n",
            "__________________________________________________________________________________________________\n",
            "layer_1 (Dense)                 (None, 1)            4           numerical_data[0][0]             \n",
            "__________________________________________________________________________________________________\n",
            "concat (Concatenate)            (None, 44907)        0           flatten_48[0][0]                 \n",
            "                                                                 flatten_50[0][0]                 \n",
            "                                                                 flatten_49[0][0]                 \n",
            "                                                                 flatten_47[0][0]                 \n",
            "                                                                 flatten_46[0][0]                 \n",
            "                                                                 flatten_51[0][0]                 \n",
            "                                                                 layer_1[0][0]                    \n",
            "__________________________________________________________________________________________________\n",
            "batch_normalization_18 (BatchNo (None, 44907)        179628      concat[0][0]                     \n",
            "__________________________________________________________________________________________________\n",
            "layer2 (Dense)                  (None, 64)           2874112     batch_normalization_18[0][0]     \n",
            "__________________________________________________________________________________________________\n",
            "dropout_27 (Dropout)            (None, 64)           0           layer2[0][0]                     \n",
            "__________________________________________________________________________________________________\n",
            "batch_normalization_19 (BatchNo (None, 64)           256         dropout_27[0][0]                 \n",
            "__________________________________________________________________________________________________\n",
            "layer3 (Dense)                  (None, 32)           2080        batch_normalization_19[0][0]     \n",
            "__________________________________________________________________________________________________\n",
            "dropout_28 (Dropout)            (None, 32)           0           layer3[0][0]                     \n",
            "__________________________________________________________________________________________________\n",
            "layer4 (Dense)                  (None, 16)           528         dropout_28[0][0]                 \n",
            "__________________________________________________________________________________________________\n",
            "dropout_29 (Dropout)            (None, 16)           0           layer4[0][0]                     \n",
            "__________________________________________________________________________________________________\n",
            "output (Dense)                  (None, 1)            17          dropout_29[0][0]                 \n",
            "==================================================================================================\n",
            "Total params: 11,943,147\n",
            "Trainable params: 11,853,205\n",
            "Non-trainable params: 89,942\n",
            "__________________________________________________________________________________________________\n"
          ],
          "name": "stdout"
        }
      ]
    },
    {
      "cell_type": "code",
      "metadata": {
        "id": "7G9SCZctLLIf",
        "colab_type": "code",
        "colab": {}
      },
      "source": [
        "import tensorflow as tf\n"
      ],
      "execution_count": 0,
      "outputs": []
    },
    {
      "cell_type": "code",
      "metadata": {
        "id": "yAFe0XzNx7tu",
        "colab_type": "code",
        "colab": {}
      },
      "source": [
        "from sklearn.metrics import roc_auc_score\n",
        "\n",
        "def auroc(y_true, y_pred):\n",
        "  try:\n",
        "    return tf.py_func(roc_auc_score, (y_true, y_pred), tf.double)\n",
        "  \n",
        "  except ValueError:\n",
        "     pass"
      ],
      "execution_count": 0,
      "outputs": []
    },
    {
      "cell_type": "code",
      "metadata": {
        "id": "hogFNP9sLLIj",
        "colab_type": "code",
        "colab": {}
      },
      "source": [
        "model.compile(optimizer=tf.keras.optimizers.Adam(),loss='binary_crossentropy',metrics=[auroc])"
      ],
      "execution_count": 0,
      "outputs": []
    },
    {
      "cell_type": "code",
      "metadata": {
        "id": "os8j9Q_iNc6C",
        "colab_type": "code",
        "colab": {}
      },
      "source": [
        ""
      ],
      "execution_count": 0,
      "outputs": []
    },
    {
      "cell_type": "code",
      "metadata": {
        "id": "xNnbfZ-YvYlt",
        "colab_type": "code",
        "colab": {}
      },
      "source": [
        "from keras.utils import to_categorical\n",
        "y_binary_tr= to_categorical(y_tr)\n",
        "y_binary_cv = to_categorical(y_cv)\n",
        "y_binary_test = to_categorical(y_test)"
      ],
      "execution_count": 0,
      "outputs": []
    },
    {
      "cell_type": "code",
      "metadata": {
        "id": "3vq-5XZoLe-E",
        "colab_type": "code",
        "colab": {
          "base_uri": "https://localhost:8080/",
          "height": 136
        },
        "outputId": "f2d9b61c-c3b6-4297-faca-6a08cf053e5e"
      },
      "source": [
        "np.isnan(y_binary_cv)"
      ],
      "execution_count": 77,
      "outputs": [
        {
          "output_type": "execute_result",
          "data": {
            "text/plain": [
              "array([[False, False],\n",
              "       [False, False],\n",
              "       [False, False],\n",
              "       ...,\n",
              "       [False, False],\n",
              "       [False, False],\n",
              "       [False, False]])"
            ]
          },
          "metadata": {
            "tags": []
          },
          "execution_count": 77
        }
      ]
    },
    {
      "cell_type": "code",
      "metadata": {
        "id": "Jon4Va8qLLIl",
        "colab_type": "code",
        "outputId": "34fb197e-b465-417e-f23d-ab99b293a4df",
        "colab": {
          "base_uri": "https://localhost:8080/",
          "height": 204
        }
      },
      "source": [
        "history=model.fit([categories_one_hot_tr,project_grade_category_tr,state_one_hot_tr,teacher_prefix_tr,sub_categories_one_hot_tr,essay_padded_tr,numerical_tr]\n",
        "          ,y_tr,batch_size=500,epochs=5,\n",
        "          validation_data=([categories_one_hot_cv,project_grade_category_cv,state_one_hot_cv,teacher_prefix_cv,sub_categories_one_hot_cv,essay_padded_cv,\n",
        "                            numerical_cv],y_cv))"
      ],
      "execution_count": 471,
      "outputs": [
        {
          "output_type": "stream",
          "text": [
            "Train on 83231 samples, validate on 40995 samples\n",
            "Epoch 1/5\n",
            "83231/83231 [==============================] - 1430s 17ms/sample - loss: 1.8322 - auroc: 0.5280 - val_loss: 1.1214 - val_auroc: 0.5502\n",
            "Epoch 2/5\n",
            "83231/83231 [==============================] - 1434s 17ms/sample - loss: 0.8949 - auroc: 0.5814 - val_loss: 0.7347 - val_auroc: 0.7131\n",
            "Epoch 3/5\n",
            "83231/83231 [==============================] - 1403s 17ms/sample - loss: 0.6221 - auroc: 0.6329 - val_loss: 0.5484 - val_auroc: 0.7499\n",
            "Epoch 4/5\n",
            "83231/83231 [==============================] - 1380s 17ms/sample - loss: 0.5127 - auroc: 0.6925 - val_loss: 0.4705 - val_auroc: 0.7850\n",
            "Epoch 5/5\n",
            "83231/83231 [==============================] - 1341s 16ms/sample - loss: 0.4684 - auroc: 0.7764 - val_loss: 0.4638 - val_auroc: 0.8092\n"
          ],
          "name": "stdout"
        }
      ]
    },
    {
      "cell_type": "code",
      "metadata": {
        "id": "63QX6P1LKe7W",
        "colab_type": "code",
        "outputId": "e97e4185-8810-4393-b528-c8807df98ecf",
        "colab": {
          "base_uri": "https://localhost:8080/",
          "height": 312
        }
      },
      "source": [
        "import matplotlib.pyplot as plt\n",
        "print(history.history.keys())\n",
        "# summarize history for accuracy\n",
        "plt.plot(history.history['auroc'])\n",
        "plt.plot(history.history['val_auroc']) \n",
        "plt.title('model accuracy')\n",
        "plt.ylabel('accuracy')\n",
        "plt.xlabel('epoch')\n",
        "plt.legend(['train', 'test'], loc='upper left')\n",
        "plt.show()"
      ],
      "execution_count": 472,
      "outputs": [
        {
          "output_type": "stream",
          "text": [
            "dict_keys(['loss', 'auroc', 'val_loss', 'val_auroc'])\n"
          ],
          "name": "stdout"
        },
        {
          "output_type": "display_data",
          "data": {
            "image/png": "[encoded data removed]",
            "text/plain": [
              "<Figure size 432x288 with 1 Axes>"
            ]
          },
          "metadata": {
            "tags": []
          }
        }
      ]
    },
    {
      "cell_type": "code",
      "metadata": {
        "id": "UnJOLde_FlBI",
        "colab_type": "code",
        "outputId": "eee5156c-65f0-4f78-a883-6352e5f60df7",
        "colab": {
          "base_uri": "https://localhost:8080/",
          "height": 34
        }
      },
      "source": [
        "score = model.evaluate([categories_one_hot_test,project_grade_category_test,state_one_hot_test,\n",
        "                       teacher_prefix_test,sub_categories_one_hot_test,essay_padded_test,\n",
        "                            numerical_test],y_test,batch_size=500)"
      ],
      "execution_count": 474,
      "outputs": [
        {
          "output_type": "stream",
          "text": [
            "61186/61186 [==============================] - 237s 4ms/sample - loss: 0.4651 - auroc: 0.8026\n"
          ],
          "name": "stdout"
        }
      ]
    },
    {
      "cell_type": "markdown",
      "metadata": {
        "id": "o8i-ztqiLLIm",
        "colab_type": "text"
      },
      "source": [
        "### Model 2"
      ]
    },
    {
      "cell_type": "code",
      "metadata": {
        "id": "fzhejKH2LLIm",
        "colab_type": "code",
        "outputId": "469f34bc-4c8e-4263-b15f-602a4bddd17b",
        "colab": {
          "base_uri": "https://localhost:8080/",
          "height": 51
        }
      },
      "source": [
        "from sklearn.feature_extraction.text import TfidfVectorizer\n",
        "vectorizer_tfidf_eassay = TfidfVectorizer(min_df=5,use_idf=True,max_features=12000)\n",
        "vectorizer_tfidf_eassay = vectorizer_tfidf_eassay.fit(tr_essay)\n",
        "eassay_tfidf_tr=vectorizer_tfidf_eassay.transform(tr_essay)\n",
        "print(\"Shape of matrix after one hot encodig \",eassay_tfidf_tr.shape)\n",
        "eassay_tfidf_test=vectorizer_tfidf_eassay.transform(test_essay_test)\n",
        "eassay_tfidf_cv=vectorizer_tfidf_eassay.transform(cv_essay)\n",
        "\n",
        "print(\"Shape of matrix after one hot encodig \",eassay_tfidf_test.shape)"
      ],
      "execution_count": 50,
      "outputs": [
        {
          "output_type": "stream",
          "text": [
            "Shape of matrix after one hot encodig  (49041, 12000)\n",
            "Shape of matrix after one hot encodig  (36052, 12000)\n"
          ],
          "name": "stdout"
        }
      ]
    },
    {
      "cell_type": "code",
      "metadata": {
        "id": "txMrwKarLLIp",
        "colab_type": "code",
        "outputId": "64b419f3-e5c9-46e0-d1d5-e9cadaf562d7",
        "colab": {
          "base_uri": "https://localhost:8080/",
          "height": 34
        }
      },
      "source": [
        "vectorizer_tfidf_eassay.idf_.max()"
      ],
      "execution_count": 51,
      "outputs": [
        {
          "output_type": "execute_result",
          "data": {
            "text/plain": [
              "10.00867288358469"
            ]
          },
          "metadata": {
            "tags": []
          },
          "execution_count": 51
        }
      ]
    },
    {
      "cell_type": "code",
      "metadata": {
        "id": "OowTxIYULLIq",
        "colab_type": "code",
        "outputId": "aa973b30-3534-4475-a137-58eecd149b88",
        "colab": {
          "base_uri": "https://localhost:8080/",
          "height": 34
        }
      },
      "source": [
        "vectorizer_tfidf_eassay.idf_[1000]"
      ],
      "execution_count": 52,
      "outputs": [
        {
          "output_type": "execute_result",
          "data": {
            "text/plain": [
              "6.880451426984621"
            ]
          },
          "metadata": {
            "tags": []
          },
          "execution_count": 52
        }
      ]
    },
    {
      "cell_type": "code",
      "metadata": {
        "id": "kpIdQazblBmY",
        "colab_type": "code",
        "colab": {}
      },
      "source": [
        "idf=vectorizer_tfidf_eassay.idf_"
      ],
      "execution_count": 0,
      "outputs": []
    },
    {
      "cell_type": "code",
      "metadata": {
        "id": "YbT2iyU1lw-k",
        "colab_type": "code",
        "outputId": "d847c237-db5b-40c7-ecdb-1c42ddf5a1e7",
        "colab": {
          "base_uri": "https://localhost:8080/",
          "height": 282
        }
      },
      "source": [
        "import seaborn as sns\n",
        "\n",
        "sns.boxplot(idf)"
      ],
      "execution_count": 54,
      "outputs": [
        {
          "output_type": "execute_result",
          "data": {
            "text/plain": [
              "<matplotlib.axes._subplots.AxesSubplot at 0x7f22a7e23978>"
            ]
          },
          "metadata": {
            "tags": []
          },
          "execution_count": 54
        },
        {
          "output_type": "display_data",
          "data": {
            "image/png": "[encoded data removed]",
            "text/plain": [
              "<Figure size 432x288 with 1 Axes>"
            ]
          },
          "metadata": {
            "tags": []
          }
        }
      ]
    },
    {
      "cell_type": "code",
      "metadata": {
        "id": "5fal2hvqLLIs",
        "colab_type": "code",
        "colab": {}
      },
      "source": [
        "sorted_features = np.argsort(vectorizer_tfidf_eassay.idf_[::-1])\n",
        "features = vectorizer_tfidf_eassay.get_feature_names()\n",
        "top_features = [features[i] for i in sorted_features[2500:8000]]"
      ],
      "execution_count": 0,
      "outputs": []
    },
    {
      "cell_type": "code",
      "metadata": {
        "id": "vtapfL7R42ai",
        "colab_type": "code",
        "colab": {}
      },
      "source": [
        "not_imp_words = []\n",
        "for word in features:\n",
        "  if word not in top_features:\n",
        "    not_imp_words.append(word)"
      ],
      "execution_count": 0,
      "outputs": []
    },
    {
      "cell_type": "code",
      "metadata": {
        "id": "E-J3uI8YLLIt",
        "colab_type": "code",
        "colab": {}
      },
      "source": [
        "sorted_features1=np.sort(vectorizer_tfidf_eassay.idf_)"
      ],
      "execution_count": 0,
      "outputs": []
    },
    {
      "cell_type": "code",
      "metadata": {
        "id": "5yaG72p8LLIu",
        "colab_type": "code",
        "outputId": "a5f6e679-898d-4919-a944-8af090afb5ee",
        "colab": {
          "base_uri": "https://localhost:8080/",
          "height": 34
        }
      },
      "source": [
        "sorted_features1[8000]"
      ],
      "execution_count": 58,
      "outputs": [
        {
          "output_type": "execute_result",
          "data": {
            "text/plain": [
              "8.504595486808416"
            ]
          },
          "metadata": {
            "tags": []
          },
          "execution_count": 58
        }
      ]
    },
    {
      "cell_type": "code",
      "metadata": {
        "id": "M3VT8ZUOOxkQ",
        "colab_type": "code",
        "colab": {
          "base_uri": "https://localhost:8080/",
          "height": 34
        },
        "outputId": "978c6fd8-54ed-4604-d03a-5b9f672201c7"
      },
      "source": [
        "my_tr_essay=[]\n",
        "\n",
        "for sent in tqdm(tr_essay):\n",
        "  sent = ' '.join(e for e in sent.split() if e not in not_imp_words)\n",
        "  my_tr_essay.append(sent)"
      ],
      "execution_count": 59,
      "outputs": [
        {
          "output_type": "stream",
          "text": [
            "100%|██████████| 49041/49041 [08:23<00:00, 97.49it/s]\n"
          ],
          "name": "stderr"
        }
      ]
    },
    {
      "cell_type": "code",
      "metadata": {
        "id": "TXK8AwCyXONB",
        "colab_type": "code",
        "colab": {
          "base_uri": "https://localhost:8080/",
          "height": 34
        },
        "outputId": "ee484ec9-0cdb-4889-de9a-69386072b481"
      },
      "source": [
        "my_cv_essay=[]\n",
        "for sent in tqdm(cv_essay):\n",
        "  sent = ' '.join(e for e in sent.split() if e not in not_imp_words)\n",
        "  my_cv_essay.append(sent)"
      ],
      "execution_count": 60,
      "outputs": [
        {
          "output_type": "stream",
          "text": [
            "100%|██████████| 24155/24155 [04:14<00:00, 94.78it/s]\n"
          ],
          "name": "stderr"
        }
      ]
    },
    {
      "cell_type": "code",
      "metadata": {
        "id": "sHoJfJwmXTLG",
        "colab_type": "code",
        "colab": {
          "base_uri": "https://localhost:8080/",
          "height": 34
        },
        "outputId": "d5ad4010-816c-4e54-f361-f46450ce4b37"
      },
      "source": [
        "my_test_essay=[]\n",
        "\n",
        "for sent in tqdm(test_essay_test):\n",
        "  sent = ' '.join(e for e in sent.split() if e not in not_imp_words)\n",
        "  my_test_essay.append(sent)"
      ],
      "execution_count": 61,
      "outputs": [
        {
          "output_type": "stream",
          "text": [
            "100%|██████████| 36052/36052 [06:15<00:00, 95.96it/s]\n"
          ],
          "name": "stderr"
        }
      ]
    },
    {
      "cell_type": "markdown",
      "metadata": {
        "id": "KvnQxAWaLLI9",
        "colab_type": "text"
      },
      "source": [
        "### padding"
      ]
    },
    {
      "cell_type": "code",
      "metadata": {
        "id": "3XswzIZ5RFxl",
        "colab_type": "code",
        "colab": {
          "base_uri": "https://localhost:8080/",
          "height": 122
        },
        "outputId": "97600ba0-3570-450e-92ec-5b8669ecd812"
      },
      "source": [
        "from google.colab import drive\n",
        "\n",
        "drive.mount('/content/drive/')"
      ],
      "execution_count": 7,
      "outputs": [
        {
          "output_type": "stream",
          "text": [
            "Go to this URL in a browser: https://accounts.google.com/o/oauth2/auth?client_id=947318989803-6bn6qk8qdgf4n4g3pfee6491hc0brc4i.apps.googleusercontent.com&redirect_uri=urn%3aietf%3awg%3aoauth%3a2.0%3aoob&response_type=code&scope=email%20https%3a%2f%2fwww.googleapis.com%2fauth%2fdocs.test%20https%3a%2f%2fwww.googleapis.com%2fauth%2fdrive%20https%3a%2f%2fwww.googleapis.com%2fauth%2fdrive.photos.readonly%20https%3a%2f%2fwww.googleapis.com%2fauth%2fpeopleapi.readonly\n",
            "\n",
            "Enter your authorization code:\n",
            "··········\n",
            "Mounted at /content/drive/\n"
          ],
          "name": "stdout"
        }
      ]
    },
    {
      "cell_type": "code",
      "metadata": {
        "colab_type": "code",
        "outputId": "a49b2bab-6a1c-44c9-c22d-e4e03f269d34",
        "id": "vPscWg3RRWEa",
        "colab": {
          "base_uri": "https://localhost:8080/",
          "height": 34
        }
      },
      "source": [
        "from numpy import array\n",
        "from numpy import asarray\n",
        "from numpy import zeros\n",
        "embeddings_index = dict()\n",
        "f = open('/content/drive/My Drive/glove.6B.200d.txt')\n",
        "for line in f:\n",
        "    values = line.split()\n",
        "    word = values[0]\n",
        "    coefs = asarray(values[1:], dtype='float32')\n",
        "    embeddings_index[word] = coefs\n",
        "f.close()\n",
        "print('Loaded %s word vectors.' % len(embeddings_index))"
      ],
      "execution_count": 99,
      "outputs": [
        {
          "output_type": "stream",
          "text": [
            "Loaded 400000 word vectors.\n"
          ],
          "name": "stdout"
        }
      ]
    },
    {
      "cell_type": "code",
      "metadata": {
        "colab_type": "code",
        "id": "elWKgdl7RWEd",
        "colab": {}
      },
      "source": [
        "def padded(encoded_docs):  \n",
        "    max_length =300\n",
        "    padded_docs = pad_sequences(encoded_docs, maxlen=max_length, padding='post')\n",
        "    return padded_docs"
      ],
      "execution_count": 0,
      "outputs": []
    },
    {
      "cell_type": "code",
      "metadata": {
        "colab_type": "code",
        "id": "IGsKR6ggRWEk",
        "colab": {}
      },
      "source": [
        "from keras.preprocessing.text import Tokenizer\n",
        "from keras.preprocessing.sequence import pad_sequences\n",
        "# prepare tokenizer\n",
        "t = Tokenizer()\n",
        "t.fit_on_texts(my_tr_essay)\n",
        "vocab_size = len(t.word_index) + 1\n",
        "# integer encode the documents\n",
        "encoded_docs_tr = t.texts_to_sequences(my_tr_essay)\n",
        "essay_padded_tr = padded(encoded_docs_tr)"
      ],
      "execution_count": 0,
      "outputs": []
    },
    {
      "cell_type": "code",
      "metadata": {
        "colab_type": "code",
        "id": "Cn2FFQEyRWEn",
        "colab": {}
      },
      "source": [
        "encoded_docs_cv = t.texts_to_sequences(my_cv_essay)\n",
        "essay_padded_cv = padded(encoded_docs_cv)"
      ],
      "execution_count": 0,
      "outputs": []
    },
    {
      "cell_type": "code",
      "metadata": {
        "colab_type": "code",
        "outputId": "047239f7-c942-4b06-978d-05baf2e482f0",
        "id": "_IOLnMeKRWEp",
        "colab": {
          "base_uri": "https://localhost:8080/",
          "height": 391
        }
      },
      "source": [
        "print(essay_padded_cv[0])"
      ],
      "execution_count": 161,
      "outputs": [
        {
          "output_type": "stream",
          "text": [
            "[  23    1   78  104    1   18   17 2187  200  673  627   29  766   86\n",
            " 5482   74  185   38  185   99    1   54 1157    3    3   37 1232   22\n",
            "   31   22   22  153  992   22   22    1    0    0    0    0    0    0\n",
            "    0    0    0    0    0    0    0    0    0    0    0    0    0    0\n",
            "    0    0    0    0    0    0    0    0    0    0    0    0    0    0\n",
            "    0    0    0    0    0    0    0    0    0    0    0    0    0    0\n",
            "    0    0    0    0    0    0    0    0    0    0    0    0    0    0\n",
            "    0    0    0    0    0    0    0    0    0    0    0    0    0    0\n",
            "    0    0    0    0    0    0    0    0    0    0    0    0    0    0\n",
            "    0    0    0    0    0    0    0    0    0    0    0    0    0    0\n",
            "    0    0    0    0    0    0    0    0    0    0    0    0    0    0\n",
            "    0    0    0    0    0    0    0    0    0    0    0    0    0    0\n",
            "    0    0    0    0    0    0    0    0    0    0    0    0    0    0\n",
            "    0    0    0    0    0    0    0    0    0    0    0    0    0    0\n",
            "    0    0    0    0    0    0    0    0    0    0    0    0    0    0\n",
            "    0    0    0    0    0    0    0    0    0    0    0    0    0    0\n",
            "    0    0    0    0    0    0    0    0    0    0    0    0    0    0\n",
            "    0    0    0    0    0    0    0    0    0    0    0    0    0    0\n",
            "    0    0    0    0    0    0    0    0    0    0    0    0    0    0\n",
            "    0    0    0    0    0    0    0    0    0    0    0    0    0    0\n",
            "    0    0    0    0    0    0    0    0    0    0    0    0    0    0\n",
            "    0    0    0    0    0    0]\n"
          ],
          "name": "stdout"
        }
      ]
    },
    {
      "cell_type": "code",
      "metadata": {
        "colab_type": "code",
        "id": "UjmDY9g2RWEx",
        "colab": {}
      },
      "source": [
        "encoded_docs_test = t.texts_to_sequences(my_test_essay)\n",
        "essay_padded_test = padded(encoded_docs_test)"
      ],
      "execution_count": 0,
      "outputs": []
    },
    {
      "cell_type": "code",
      "metadata": {
        "colab_type": "code",
        "outputId": "9620610b-91de-43a1-c8a0-f77b5425131b",
        "id": "wOjci3E6RWE1",
        "colab": {
          "base_uri": "https://localhost:8080/",
          "height": 54
        }
      },
      "source": [
        "print(my_test_essay[1])"
      ],
      "execution_count": 163,
      "outputs": [
        {
          "output_type": "stream",
          "text": [
            "students income title school little funding students sweet students well students chance education provide students title 1 school funds used give students activity students excited stuff let away pencile allow us bale mathnannan\n"
          ],
          "name": "stdout"
        }
      ]
    },
    {
      "cell_type": "code",
      "metadata": {
        "colab_type": "code",
        "outputId": "d4c22ac0-98c7-4a65-99f6-129865a88f15",
        "id": "euEFRMPlRWE7",
        "colab": {
          "base_uri": "https://localhost:8080/",
          "height": 34
        }
      },
      "source": [
        "print('Loaded %s word vectors.' % len(embeddings_index))\n",
        "# create a weight matrix for words in training docs\n",
        "embedding_matrix = zeros((vocab_size, 200))\n",
        "for word, i in t.word_index.items():\n",
        "    embedding_vector = embeddings_index.get(word)\n",
        "    if embedding_vector is not None:\n",
        "        embedding_matrix[i] = embedding_vector"
      ],
      "execution_count": 164,
      "outputs": [
        {
          "output_type": "stream",
          "text": [
            "Loaded 400000 word vectors.\n"
          ],
          "name": "stdout"
        }
      ]
    },
    {
      "cell_type": "code",
      "metadata": {
        "colab_type": "code",
        "outputId": "77f65237-3ab7-4450-cb86-5f6b88f76731",
        "id": "yPYG2h8iRWFC",
        "colab": {
          "base_uri": "https://localhost:8080/",
          "height": 34
        }
      },
      "source": [
        "print(vocab_size)"
      ],
      "execution_count": 165,
      "outputs": [
        {
          "output_type": "stream",
          "text": [
            "34778\n"
          ],
          "name": "stdout"
        }
      ]
    },
    {
      "cell_type": "code",
      "metadata": {
        "colab_type": "code",
        "id": "4HybkLqJRWFE",
        "colab": {}
      },
      "source": [
        "from tensorflow.keras.layers import LSTM\n",
        "text = Input(shape=(300,))\n",
        "embedding = Embedding(vocab_size, 200, input_length=300,weights=[embedding_matrix])(text)\n",
        "embedding1=LSTM(128,recurrent_dropout=0.5,return_sequences=True)(embedding)\n",
        "flatten_text = Flatten()(embedding1)"
      ],
      "execution_count": 0,
      "outputs": []
    },
    {
      "cell_type": "code",
      "metadata": {
        "colab_type": "code",
        "outputId": "6bb844c0-d42a-4b74-914c-a7441846dd18",
        "id": "WfxkTJqCRWFG",
        "colab": {
          "base_uri": "https://localhost:8080/",
          "height": 34
        }
      },
      "source": [
        "flatten_text"
      ],
      "execution_count": 167,
      "outputs": [
        {
          "output_type": "execute_result",
          "data": {
            "text/plain": [
              "<tf.Tensor 'flatten_8/Reshape:0' shape=(?, 38400) dtype=float32>"
            ]
          },
          "metadata": {
            "tags": []
          },
          "execution_count": 167
        }
      ]
    },
    {
      "cell_type": "code",
      "metadata": {
        "id": "q1QDLEAoRN4p",
        "colab_type": "code",
        "colab": {}
      },
      "source": [
        "from tensorflow.keras.layers import Dense,concatenate,Activation,Dropout,Input\n",
        "from tensorflow.keras.models import Model\n",
        "from tensorflow.keras.layers import BatchNormalization\n",
        "from keras.regularizers import l2\n",
        "from keras.layers import LeakyReLU"
      ],
      "execution_count": 0,
      "outputs": []
    },
    {
      "cell_type": "code",
      "metadata": {
        "id": "YikNcQgvZB4G",
        "colab_type": "code",
        "colab": {}
      },
      "source": [
        "from tensorflow.keras.layers import concatenate\n",
        "concat_layer=concatenate(inputs=[flatten_project_grade_category,flatten_school_state,flatten_teacher_prefix,\n",
        "                                 flatten_project_subject_subcategories,flatten_text,layer_1],name=\"concat\" )"
      ],
      "execution_count": 0,
      "outputs": []
    },
    {
      "cell_type": "code",
      "metadata": {
        "id": "ibok-zaaZB-_",
        "colab_type": "code",
        "colab": {}
      },
      "source": [
        "normalize=BatchNormalization()(concat_layer)\n",
        "layer2 = Dense(units=64,activation='relu',kernel_initializer='he_normal',kernel_regularizer=l2(),name=\"layer2\")(normalize)\n",
        "layer2 = Dropout(.6)(layer2)\n",
        "normalize=BatchNormalization()(layer2)\n",
        "layer3 = Dense(units=32,activation='relu',kernel_initializer='he_normal',kernel_regularizer=l2(),name='layer3')(normalize)\n",
        "layer3 = Dropout(.55)(layer3)\n",
        "layer4 = Dense(units=16,activation='relu',kernel_initializer='he_normal',kernel_regularizer=l2(),name=\"layer4\")(layer3)\n",
        "layer4 = Dropout(.5)(layer4)\n",
        "output = Dense(1,activation='sigmoid',name=\"output\")(layer4)"
      ],
      "execution_count": 0,
      "outputs": []
    },
    {
      "cell_type": "code",
      "metadata": {
        "id": "zuQ5UOiYQxJw",
        "colab_type": "code",
        "colab": {}
      },
      "source": [
        "from tensorflow.keras.layers import Dense,concatenate,Activation,Dropout,Input\n",
        "from tensorflow.keras.models import Model"
      ],
      "execution_count": 0,
      "outputs": []
    },
    {
      "cell_type": "code",
      "metadata": {
        "id": "sXolvBXxZCJ0",
        "colab_type": "code",
        "colab": {}
      },
      "source": [
        "model = Model(inputs=[categories,project_grade_category,school_state,teacher_prefix,sub_categories,text,Input_model],outputs=output)"
      ],
      "execution_count": 0,
      "outputs": []
    },
    {
      "cell_type": "code",
      "metadata": {
        "id": "8IuwU00XZCUN",
        "colab_type": "code",
        "outputId": "614b1aa6-4c0c-4b8d-bcee-e3adf44ea05d",
        "colab": {
          "base_uri": "https://localhost:8080/",
          "height": 1000
        }
      },
      "source": [
        "model.summary()"
      ],
      "execution_count": 173,
      "outputs": [
        {
          "output_type": "stream",
          "text": [
            "Model: \"model_5\"\n",
            "__________________________________________________________________________________________________\n",
            "Layer (type)                    Output Shape         Param #     Connected to                     \n",
            "==================================================================================================\n",
            "input_9 (InputLayer)            [(None, 300)]        0                                            \n",
            "__________________________________________________________________________________________________\n",
            "input_5 (InputLayer)            [(None, 1)]          0                                            \n",
            "__________________________________________________________________________________________________\n",
            "input_4 (InputLayer)            [(None, 1)]          0                                            \n",
            "__________________________________________________________________________________________________\n",
            "input_2 (InputLayer)            [(None, 1)]          0                                            \n",
            "__________________________________________________________________________________________________\n",
            "input_1 (InputLayer)            [(None, 1)]          0                                            \n",
            "__________________________________________________________________________________________________\n",
            "embedding_9 (Embedding)         (None, 300, 200)     6955600     input_9[0][0]                    \n",
            "__________________________________________________________________________________________________\n",
            "embedding_4 (Embedding)         (None, 1, 2)         8           input_5[0][0]                    \n",
            "__________________________________________________________________________________________________\n",
            "embedding_3 (Embedding)         (None, 1, 26)        1326        input_4[0][0]                    \n",
            "__________________________________________________________________________________________________\n",
            "embedding_1 (Embedding)         (None, 1, 3)         15          input_2[0][0]                    \n",
            "__________________________________________________________________________________________________\n",
            "embedding (Embedding)           (None, 1, 50)        20050       input_1[0][0]                    \n",
            "__________________________________________________________________________________________________\n",
            "lstm_3 (LSTM)                   (None, 300, 128)     168448      embedding_9[0][0]                \n",
            "__________________________________________________________________________________________________\n",
            "numerical_data (InputLayer)     [(None, 3)]          0                                            \n",
            "__________________________________________________________________________________________________\n",
            "flatten_4 (Flatten)             (None, 2)            0           embedding_4[0][0]                \n",
            "__________________________________________________________________________________________________\n",
            "flatten_3 (Flatten)             (None, 26)           0           embedding_3[0][0]                \n",
            "__________________________________________________________________________________________________\n",
            "flatten_1 (Flatten)             (None, 3)            0           embedding_1[0][0]                \n",
            "__________________________________________________________________________________________________\n",
            "flatten (Flatten)               (None, 50)           0           embedding[0][0]                  \n",
            "__________________________________________________________________________________________________\n",
            "flatten_8 (Flatten)             (None, 38400)        0           lstm_3[0][0]                     \n",
            "__________________________________________________________________________________________________\n",
            "layer_1 (Dense)                 (None, 1)            4           numerical_data[0][0]             \n",
            "__________________________________________________________________________________________________\n",
            "concat (Concatenate)            (None, 38482)        0           flatten_4[0][0]                  \n",
            "                                                                 flatten_3[0][0]                  \n",
            "                                                                 flatten_1[0][0]                  \n",
            "                                                                 flatten[0][0]                    \n",
            "                                                                 flatten_8[0][0]                  \n",
            "                                                                 layer_1[0][0]                    \n",
            "__________________________________________________________________________________________________\n",
            "batch_normalization_8 (BatchNor (None, 38482)        153928      concat[0][0]                     \n",
            "__________________________________________________________________________________________________\n",
            "layer2 (Dense)                  (None, 64)           2462912     batch_normalization_8[0][0]      \n",
            "__________________________________________________________________________________________________\n",
            "dropout_12 (Dropout)            (None, 64)           0           layer2[0][0]                     \n",
            "__________________________________________________________________________________________________\n",
            "batch_normalization_9 (BatchNor (None, 64)           256         dropout_12[0][0]                 \n",
            "__________________________________________________________________________________________________\n",
            "layer3 (Dense)                  (None, 32)           2080        batch_normalization_9[0][0]      \n",
            "__________________________________________________________________________________________________\n",
            "dropout_13 (Dropout)            (None, 32)           0           layer3[0][0]                     \n",
            "__________________________________________________________________________________________________\n",
            "layer4 (Dense)                  (None, 16)           528         dropout_13[0][0]                 \n",
            "__________________________________________________________________________________________________\n",
            "dropout_14 (Dropout)            (None, 16)           0           layer4[0][0]                     \n",
            "__________________________________________________________________________________________________\n",
            "input_3 (InputLayer)            [(None, 1)]          0                                            \n",
            "__________________________________________________________________________________________________\n",
            "output (Dense)                  (None, 1)            17          dropout_14[0][0]                 \n",
            "==================================================================================================\n",
            "Total params: 9,765,172\n",
            "Trainable params: 9,688,080\n",
            "Non-trainable params: 77,092\n",
            "__________________________________________________________________________________________________\n"
          ],
          "name": "stdout"
        }
      ]
    },
    {
      "cell_type": "code",
      "metadata": {
        "id": "zH9hT552ZCbh",
        "colab_type": "code",
        "colab": {}
      },
      "source": [
        "model.compile(optimizer=tf.keras.optimizers.Adam(),loss='binary_crossentropy',metrics=[auroc])"
      ],
      "execution_count": 0,
      "outputs": []
    },
    {
      "cell_type": "code",
      "metadata": {
        "id": "j0OCfB8AZCFr",
        "colab_type": "code",
        "outputId": "d72b9487-3328-495a-a64e-2a914a3af5f6",
        "colab": {
          "base_uri": "https://localhost:8080/",
          "height": 170
        }
      },
      "source": [
        "history=model.fit([categories_one_hot_tr,project_grade_category_tr,state_one_hot_tr,teacher_prefix_tr,sub_categories_one_hot_tr,essay_padded_tr,numerical_tr]\n",
        "          ,y_tr,batch_size=250,epochs=4,\n",
        "          validation_data=([categories_one_hot_cv,project_grade_category_cv,state_one_hot_cv,teacher_prefix_cv,sub_categories_one_hot_cv,essay_padded_cv,\n",
        "                            numerical_cv],y_cv))"
      ],
      "execution_count": 176,
      "outputs": [
        {
          "output_type": "stream",
          "text": [
            "Train on 49041 samples, validate on 24155 samples\n",
            "Epoch 1/4\n",
            "49041/49041 [==============================] - 909s 19ms/sample - loss: 1.6477 - auroc: 0.5157 - val_loss: 1.0155 - val_auroc: 0.5852\n",
            "Epoch 2/4\n",
            "49041/49041 [==============================] - 900s 18ms/sample - loss: 0.8152 - auroc: 0.5586 - val_loss: 0.6524 - val_auroc: 0.6772\n",
            "Epoch 3/4\n",
            "49041/49041 [==============================] - 917s 19ms/sample - loss: 0.5722 - auroc: 0.6050 - val_loss: 0.5134 - val_auroc: 0.6876\n",
            "Epoch 4/4\n",
            "49041/49041 [==============================] - 907s 18ms/sample - loss: 0.4869 - auroc: 0.6338 - val_loss: 0.4742 - val_auroc: 0.7007\n"
          ],
          "name": "stdout"
        }
      ]
    },
    {
      "cell_type": "code",
      "metadata": {
        "id": "a2R0h6eLg--y",
        "colab_type": "code",
        "colab": {
          "base_uri": "https://localhost:8080/",
          "height": 51
        },
        "outputId": "8d945eaf-7bcb-43ac-83ff-edd719ef7a13"
      },
      "source": [
        "history=model.fit([categories_one_hot_tr,project_grade_category_tr,state_one_hot_tr,teacher_prefix_tr,sub_categories_one_hot_tr,essay_padded_tr,numerical_tr]\n",
        "          ,y_tr,batch_size=250,epochs=1,\n",
        "          validation_data=([categories_one_hot_cv,project_grade_category_cv,state_one_hot_cv,teacher_prefix_cv,sub_categories_one_hot_cv,essay_padded_cv,\n",
        "                            numerical_cv],y_cv))"
      ],
      "execution_count": 178,
      "outputs": [
        {
          "output_type": "stream",
          "text": [
            "Train on 49041 samples, validate on 24155 samples\n",
            "49041/49041 [==============================] - 915s 19ms/sample - loss: 0.4620 - auroc: 0.6896 - val_loss: 0.4560 - val_auroc: 0.7022\n"
          ],
          "name": "stdout"
        }
      ]
    },
    {
      "cell_type": "code",
      "metadata": {
        "id": "Pv5P-6NPmbBp",
        "colab_type": "code",
        "colab": {
          "base_uri": "https://localhost:8080/",
          "height": 51
        },
        "outputId": "18209cc0-9014-4ddd-e74c-97dab0535e6b"
      },
      "source": [
        "history=model.fit([categories_one_hot_tr,project_grade_category_tr,state_one_hot_tr,teacher_prefix_tr,sub_categories_one_hot_tr,essay_padded_tr,numerical_tr]\n",
        "          ,y_tr,batch_size=250,epochs=1,\n",
        "          validation_data=([categories_one_hot_cv,project_grade_category_cv,state_one_hot_cv,teacher_prefix_cv,sub_categories_one_hot_cv,essay_padded_cv,\n",
        "                            numerical_cv],y_cv))"
      ],
      "execution_count": 180,
      "outputs": [
        {
          "output_type": "stream",
          "text": [
            "Train on 49041 samples, validate on 24155 samples\n",
            "49041/49041 [==============================] - 912s 19ms/sample - loss: 0.4481 - auroc: 0.7532 - val_loss: 0.4967 - val_auroc: 0.6811\n"
          ],
          "name": "stdout"
        }
      ]
    },
    {
      "cell_type": "code",
      "metadata": {
        "id": "S8JO-4g2mF0h",
        "colab_type": "code",
        "outputId": "08f73d59-cb9f-465d-bebf-664b67cabcf0",
        "colab": {
          "base_uri": "https://localhost:8080/",
          "height": 312
        }
      },
      "source": [
        "import matplotlib.pyplot as plt\n",
        "print(history.history.keys())\n",
        "# summarize history for accuracy\n",
        "plt.plot(history.history['auroc'])\n",
        "plt.plot(history.history['val_auroc']) \n",
        "plt.title('model accuracy')\n",
        "plt.ylabel('accuracy')\n",
        "plt.xlabel('epoch')\n",
        "plt.legend(['train', 'test'], loc='upper left')\n",
        "plt.show()"
      ],
      "execution_count": 119,
      "outputs": [
        {
          "output_type": "stream",
          "text": [
            "dict_keys(['loss', 'auroc', 'val_loss', 'val_auroc'])\n"
          ],
          "name": "stdout"
        },
        {
          "output_type": "display_data",
          "data": {
            "image/png": "[encoded data removed]",
            "text/plain": [
              "<Figure size 432x288 with 1 Axes>"
            ]
          },
          "metadata": {
            "tags": []
          }
        }
      ]
    },
    {
      "cell_type": "markdown",
      "metadata": {
        "id": "J4x2_C2m7mzn",
        "colab_type": "text"
      },
      "source": [
        "# New Section"
      ]
    },
    {
      "cell_type": "code",
      "metadata": {
        "id": "lqpC8uAAmGsP",
        "colab_type": "code",
        "outputId": "1ca87cea-9413-42b8-f552-04b7f55aa6a9",
        "colab": {
          "base_uri": "https://localhost:8080/",
          "height": 34
        }
      },
      "source": [
        "score = model.evaluate([categories_one_hot_test,project_grade_category_test,state_one_hot_test,\n",
        "                       teacher_prefix_test,sub_categories_one_hot_test,essay_padded_test,\n",
        "                            numerical_test],y_test,batch_size=250)"
      ],
      "execution_count": 179,
      "outputs": [
        {
          "output_type": "stream",
          "text": [
            "36052/36052 [==============================] - 139s 4ms/sample - loss: 0.4529 - auroc: 0.6957\n"
          ],
          "name": "stdout"
        }
      ]
    },
    {
      "cell_type": "code",
      "metadata": {
        "id": "jQIAuidJLLJD",
        "colab_type": "code",
        "colab": {}
      },
      "source": [
        "###Model 3"
      ],
      "execution_count": 0,
      "outputs": []
    },
    {
      "cell_type": "code",
      "metadata": {
        "id": "Tbn0-YDW9wDm",
        "colab_type": "code",
        "colab": {}
      },
      "source": [
        "project_data_new=project_data"
      ],
      "execution_count": 0,
      "outputs": []
    },
    {
      "cell_type": "code",
      "metadata": {
        "id": "QPQi3qN4046x",
        "colab_type": "code",
        "outputId": "717b1a5a-9e0a-4cb7-e329-e6096490498c",
        "colab": {
          "base_uri": "https://localhost:8080/",
          "height": 397
        }
      },
      "source": [
        "project_data_new.head(4)"
      ],
      "execution_count": 209,
      "outputs": [
        {
          "output_type": "execute_result",
          "data": {
            "text/html": [
              "<div>\n",
              "<style scoped>\n",
              "    .dataframe tbody tr th:only-of-type {\n",
              "        vertical-align: middle;\n",
              "    }\n",
              "\n",
              "    .dataframe tbody tr th {\n",
              "        vertical-align: top;\n",
              "    }\n",
              "\n",
              "    .dataframe thead th {\n",
              "        text-align: right;\n",
              "    }\n",
              "</style>\n",
              "<table border=\"1\" class=\"dataframe\">\n",
              "  <thead>\n",
              "    <tr style=\"text-align: right;\">\n",
              "      <th></th>\n",
              "      <th>Unnamed: 0</th>\n",
              "      <th>id</th>\n",
              "      <th>teacher_id</th>\n",
              "      <th>teacher_prefix</th>\n",
              "      <th>school_state</th>\n",
              "      <th>project_submitted_datetime</th>\n",
              "      <th>project_grade_category</th>\n",
              "      <th>project_subject_categories</th>\n",
              "      <th>project_subject_subcategories</th>\n",
              "      <th>project_title</th>\n",
              "      <th>project_essay_1</th>\n",
              "      <th>project_essay_2</th>\n",
              "      <th>project_essay_3</th>\n",
              "      <th>project_essay_4</th>\n",
              "      <th>project_resource_summary</th>\n",
              "      <th>teacher_number_of_previously_posted_projects</th>\n",
              "      <th>project_is_approved</th>\n",
              "    </tr>\n",
              "  </thead>\n",
              "  <tbody>\n",
              "    <tr>\n",
              "      <th>0</th>\n",
              "      <td>160221</td>\n",
              "      <td>p253737</td>\n",
              "      <td>c90749f5d961ff158d4b4d1e7dc665fc</td>\n",
              "      <td>Mrs.</td>\n",
              "      <td>IN</td>\n",
              "      <td>2016-12-05 13:43:57</td>\n",
              "      <td>Grades PreK-2</td>\n",
              "      <td>Literacy &amp; Language</td>\n",
              "      <td>ESL, Literacy</td>\n",
              "      <td>Educational Support for English Learners at Home</td>\n",
              "      <td>My students are English learners that are work...</td>\n",
              "      <td>\\\"The limits of your language are the limits o...</td>\n",
              "      <td>NaN</td>\n",
              "      <td>NaN</td>\n",
              "      <td>My students need opportunities to practice beg...</td>\n",
              "      <td>0</td>\n",
              "      <td>0</td>\n",
              "    </tr>\n",
              "    <tr>\n",
              "      <th>1</th>\n",
              "      <td>140945</td>\n",
              "      <td>p258326</td>\n",
              "      <td>897464ce9ddc600bced1151f324dd63a</td>\n",
              "      <td>Mr.</td>\n",
              "      <td>FL</td>\n",
              "      <td>2016-10-25 09:22:10</td>\n",
              "      <td>Grades 6-8</td>\n",
              "      <td>History &amp; Civics, Health &amp; Sports</td>\n",
              "      <td>Civics &amp; Government, Team Sports</td>\n",
              "      <td>Wanted: Projector for Hungry Learners</td>\n",
              "      <td>Our students arrive to our school eager to lea...</td>\n",
              "      <td>The projector we need for our school is very c...</td>\n",
              "      <td>NaN</td>\n",
              "      <td>NaN</td>\n",
              "      <td>My students need a projector to help with view...</td>\n",
              "      <td>7</td>\n",
              "      <td>1</td>\n",
              "    </tr>\n",
              "    <tr>\n",
              "      <th>2</th>\n",
              "      <td>21895</td>\n",
              "      <td>p182444</td>\n",
              "      <td>3465aaf82da834c0582ebd0ef8040ca0</td>\n",
              "      <td>Ms.</td>\n",
              "      <td>AZ</td>\n",
              "      <td>2016-08-31 12:03:56</td>\n",
              "      <td>Grades 6-8</td>\n",
              "      <td>Health &amp; Sports</td>\n",
              "      <td>Health &amp; Wellness, Team Sports</td>\n",
              "      <td>Soccer Equipment for AWESOME Middle School Stu...</td>\n",
              "      <td>\\r\\n\\\"True champions aren't always the ones th...</td>\n",
              "      <td>The students on the campus come to school know...</td>\n",
              "      <td>NaN</td>\n",
              "      <td>NaN</td>\n",
              "      <td>My students need shine guards, athletic socks,...</td>\n",
              "      <td>1</td>\n",
              "      <td>0</td>\n",
              "    </tr>\n",
              "    <tr>\n",
              "      <th>3</th>\n",
              "      <td>45</td>\n",
              "      <td>p246581</td>\n",
              "      <td>f3cb9bffbba169bef1a77b243e620b60</td>\n",
              "      <td>Mrs.</td>\n",
              "      <td>KY</td>\n",
              "      <td>2016-10-06 21:16:17</td>\n",
              "      <td>Grades PreK-2</td>\n",
              "      <td>Literacy &amp; Language, Math &amp; Science</td>\n",
              "      <td>Literacy, Mathematics</td>\n",
              "      <td>Techie Kindergarteners</td>\n",
              "      <td>I work at a unique school filled with both ESL...</td>\n",
              "      <td>My students live in high poverty conditions wi...</td>\n",
              "      <td>NaN</td>\n",
              "      <td>NaN</td>\n",
              "      <td>My students need to engage in Reading and Math...</td>\n",
              "      <td>4</td>\n",
              "      <td>1</td>\n",
              "    </tr>\n",
              "  </tbody>\n",
              "</table>\n",
              "</div>"
            ],
            "text/plain": [
              "   Unnamed: 0  ... project_is_approved\n",
              "0      160221  ...                   0\n",
              "1      140945  ...                   1\n",
              "2       21895  ...                   0\n",
              "3          45  ...                   1\n",
              "\n",
              "[4 rows x 17 columns]"
            ]
          },
          "metadata": {
            "tags": []
          },
          "execution_count": 209
        }
      ]
    },
    {
      "cell_type": "code",
      "metadata": {
        "id": "A1aY592RQGMs",
        "colab_type": "code",
        "outputId": "48ed6f0f-c9f7-422f-b970-808d9c9cdfe1",
        "colab": {
          "base_uri": "https://localhost:8080/",
          "height": 34
        }
      },
      "source": [
        "project_data_new['project_subject_subcategories'] = project_data_new['project_subject_subcategories'].str.replace(' The ','')\n",
        "project_data_new['project_subject_subcategories'] = project_data_new['project_subject_subcategories'].str.replace(' ','')\n",
        "project_data_new['project_subject_subcategories'] = project_data_new['project_subject_subcategories'].str.replace('&','_')\n",
        "project_data_new['project_subject_subcategories'] = project_data_new['project_subject_subcategories'].str.replace(',','_')\n",
        "project_data_new['project_subject_subcategories'] = project_data_new['project_subject_subcategories'].str.lower()\n",
        "len( project_data_new['project_subject_subcategories'].value_counts())\n"
      ],
      "execution_count": 210,
      "outputs": [
        {
          "output_type": "execute_result",
          "data": {
            "text/plain": [
              "401"
            ]
          },
          "metadata": {
            "tags": []
          },
          "execution_count": 210
        }
      ]
    },
    {
      "cell_type": "code",
      "metadata": {
        "id": "E4DeWAkBQG9r",
        "colab_type": "code",
        "outputId": "6f6e8f77-1ce7-43e6-ae8a-8f86f0eb0b75",
        "colab": {
          "base_uri": "https://localhost:8080/",
          "height": 34
        }
      },
      "source": [
        "project_data_new['project_subject_categories'] = project_data_new['project_subject_categories'].str.replace(' The ','')\n",
        "project_data_new['project_subject_categories'] = project_data_new['project_subject_categories'].str.replace(' ','')\n",
        "project_data_new['project_subject_categories'] = project_data_new['project_subject_categories'].str.replace('&','_')\n",
        "project_data_new['project_subject_categories'] = project_data_new['project_subject_categories'].str.replace(',','_')\n",
        "project_data_new['project_subject_categories'] = project_data_new['project_subject_categories'].str.lower()\n",
        "len(project_data_new['project_subject_categories'].value_counts())\n"
      ],
      "execution_count": 211,
      "outputs": [
        {
          "output_type": "execute_result",
          "data": {
            "text/plain": [
              "51"
            ]
          },
          "metadata": {
            "tags": []
          },
          "execution_count": 211
        }
      ]
    },
    {
      "cell_type": "code",
      "metadata": {
        "id": "ocuPIGALQHRy",
        "colab_type": "code",
        "colab": {}
      },
      "source": [
        "# merge two column text dataframe: \n",
        "project_data_new[\"essay\"] = project_data_new[\"project_essay_1\"].map(str) +\\\n",
        "                        project_data_new[\"project_essay_2\"].map(str) + \\\n",
        "                        project_data_new[\"project_essay_3\"].map(str) + \\\n",
        "                        project_data_new[\"project_essay_4\"].map(str)"
      ],
      "execution_count": 0,
      "outputs": []
    },
    {
      "cell_type": "code",
      "metadata": {
        "id": "cuPILH6DQHOs",
        "colab_type": "code",
        "colab": {}
      },
      "source": [
        "# https://stackoverflow.com/a/47091490/4084039\n",
        "import re\n",
        "\n",
        "def decontracted(phrase):\n",
        "    # specific\n",
        "    phrase = re.sub(r\"won't\", \"will not\", phrase)\n",
        "    phrase = re.sub(r\"can\\'t\", \"can not\", phrase)\n",
        "\n",
        "    # general\n",
        "    phrase = re.sub(r\"n\\'t\", \" not\", phrase)\n",
        "    phrase = re.sub(r\"\\'re\", \" are\", phrase)\n",
        "    phrase = re.sub(r\"\\'s\", \" is\", phrase)\n",
        "    phrase = re.sub(r\"\\'d\", \" would\", phrase)\n",
        "    phrase = re.sub(r\"\\'ll\", \" will\", phrase)\n",
        "    phrase = re.sub(r\"\\'t\", \" not\", phrase)\n",
        "    phrase = re.sub(r\"\\'ve\", \" have\", phrase)\n",
        "    phrase = re.sub(r\"\\'m\", \" am\", phrase)\n",
        "    return phrase"
      ],
      "execution_count": 0,
      "outputs": []
    },
    {
      "cell_type": "code",
      "metadata": {
        "id": "GD1ArMaDQHLl",
        "colab_type": "code",
        "outputId": "069c5975-c557-4f16-b111-8a736a44f2e0",
        "colab": {
          "base_uri": "https://localhost:8080/",
          "height": 71
        }
      },
      "source": [
        "sent = decontracted(project_data_new['essay'].values[20000])\n",
        "print(sent)\n",
        "print(\"=\"*50)"
      ],
      "execution_count": 214,
      "outputs": [
        {
          "output_type": "stream",
          "text": [
            "My kindergarten students have varied disabilities ranging from speech and language delays, cognitive delays, gross/fine motor delays, to autism. They are eager beavers and always strive to work their hardest working past their limitations. \\r\\n\\r\\nThe materials we have are the ones I seek out for my students. I teach in a Title I school where most of the students receive free or reduced price lunch.  Despite their disabilities and limitations, my students love coming to school and come eager to learn and explore.Have you ever felt like you had ants in your pants and you needed to groove and move as you were in a meeting? This is how my kids feel all the time. The want to be able to move as they learn or so they say.Wobble chairs are the answer and I love then because they develop their core, which enhances gross motor and in Turn fine motor skills. \\r\\nThey also want to learn through games, my kids do not want to sit and do worksheets. They want to learn to count by jumping and playing. Physical engagement is the key to our success. The number toss and color and shape mats can make that happen. My students will forget they are doing work and just have the fun a 6 year old deserves.nannan\n",
            "==================================================\n"
          ],
          "name": "stdout"
        }
      ]
    },
    {
      "cell_type": "code",
      "metadata": {
        "id": "KxuHjlb2QHFv",
        "colab_type": "code",
        "outputId": "963bcbcb-015a-4b5b-eb11-397abfad9dcc",
        "colab": {
          "base_uri": "https://localhost:8080/",
          "height": 54
        }
      },
      "source": [
        "# \\r \\n \\t remove from string python: http://texthandler.com/info/remove-line-breaks-python/\n",
        "sent = sent.replace('\\\\r', ' ')\n",
        "sent = sent.replace('\\\\\"', ' ')\n",
        "sent = sent.replace('\\\\n', ' ')\n",
        "print(sent)"
      ],
      "execution_count": 215,
      "outputs": [
        {
          "output_type": "stream",
          "text": [
            "My kindergarten students have varied disabilities ranging from speech and language delays, cognitive delays, gross/fine motor delays, to autism. They are eager beavers and always strive to work their hardest working past their limitations.     The materials we have are the ones I seek out for my students. I teach in a Title I school where most of the students receive free or reduced price lunch.  Despite their disabilities and limitations, my students love coming to school and come eager to learn and explore.Have you ever felt like you had ants in your pants and you needed to groove and move as you were in a meeting? This is how my kids feel all the time. The want to be able to move as they learn or so they say.Wobble chairs are the answer and I love then because they develop their core, which enhances gross motor and in Turn fine motor skills.   They also want to learn through games, my kids do not want to sit and do worksheets. They want to learn to count by jumping and playing. Physical engagement is the key to our success. The number toss and color and shape mats can make that happen. My students will forget they are doing work and just have the fun a 6 year old deserves.nannan\n"
          ],
          "name": "stdout"
        }
      ]
    },
    {
      "cell_type": "code",
      "metadata": {
        "id": "-n1V3QbfQdFu",
        "colab_type": "code",
        "outputId": "42c283ab-63ec-4e1b-f698-488379331b2e",
        "colab": {
          "base_uri": "https://localhost:8080/",
          "height": 54
        }
      },
      "source": [
        "#remove spacial character: https://stackoverflow.com/a/5843547/4084039\n",
        "sent = re.sub('[^A-Za-z0-9]+', ' ', sent)\n",
        "print(sent)"
      ],
      "execution_count": 216,
      "outputs": [
        {
          "output_type": "stream",
          "text": [
            "My kindergarten students have varied disabilities ranging from speech and language delays cognitive delays gross fine motor delays to autism They are eager beavers and always strive to work their hardest working past their limitations The materials we have are the ones I seek out for my students I teach in a Title I school where most of the students receive free or reduced price lunch Despite their disabilities and limitations my students love coming to school and come eager to learn and explore Have you ever felt like you had ants in your pants and you needed to groove and move as you were in a meeting This is how my kids feel all the time The want to be able to move as they learn or so they say Wobble chairs are the answer and I love then because they develop their core which enhances gross motor and in Turn fine motor skills They also want to learn through games my kids do not want to sit and do worksheets They want to learn to count by jumping and playing Physical engagement is the key to our success The number toss and color and shape mats can make that happen My students will forget they are doing work and just have the fun a 6 year old deserves nannan\n"
          ],
          "name": "stdout"
        }
      ]
    },
    {
      "cell_type": "code",
      "metadata": {
        "id": "g1t1UOCTQdAR",
        "colab_type": "code",
        "outputId": "7e7f9e1d-953c-404a-fe65-1cbe70a65ba8",
        "colab": {
          "base_uri": "https://localhost:8080/",
          "height": 102
        }
      },
      "source": [
        "project_data_new['project_grade_category'] = project_data_new['project_grade_category'].str.replace(' ','_')\n",
        "project_data_new['project_grade_category'] = project_data_new['project_grade_category'].str.replace('-','_')\n",
        "project_data_new['project_grade_category'] = project_data_new['project_grade_category'].str.lower()\n",
        "project_data_new['project_grade_category'].value_counts()"
      ],
      "execution_count": 217,
      "outputs": [
        {
          "output_type": "execute_result",
          "data": {
            "text/plain": [
              "grades_prek_2    44225\n",
              "grades_3_5       37137\n",
              "grades_6_8       16923\n",
              "grades_9_12      10963\n",
              "Name: project_grade_category, dtype: int64"
            ]
          },
          "metadata": {
            "tags": []
          },
          "execution_count": 217
        }
      ]
    },
    {
      "cell_type": "code",
      "metadata": {
        "id": "_3V4TvuiQc9e",
        "colab_type": "code",
        "outputId": "9c5b65e4-df4e-40ed-b369-190c14a344e4",
        "colab": {
          "base_uri": "https://localhost:8080/",
          "height": 119
        }
      },
      "source": [
        "project_data_new['teacher_prefix'] = project_data_new['teacher_prefix'].str.replace('.','')\n",
        "project_data_new['teacher_prefix'] = project_data_new['teacher_prefix'].str.lower()\n",
        "project_data_new['teacher_prefix'].value_counts()"
      ],
      "execution_count": 218,
      "outputs": [
        {
          "output_type": "execute_result",
          "data": {
            "text/plain": [
              "mrs        57269\n",
              "ms         38955\n",
              "mr         10648\n",
              "teacher     2360\n",
              "dr            13\n",
              "Name: teacher_prefix, dtype: int64"
            ]
          },
          "metadata": {
            "tags": []
          },
          "execution_count": 218
        }
      ]
    },
    {
      "cell_type": "code",
      "metadata": {
        "id": "iWt2C1MNQc5_",
        "colab_type": "code",
        "outputId": "f68ffd2b-564b-4004-dc91-bd75d416a0e9",
        "colab": {
          "base_uri": "https://localhost:8080/",
          "height": 34
        }
      },
      "source": [
        "project_data_new['school_state'] = project_data_new['school_state'].str.lower()\n",
        "len(project_data_new['school_state'].value_counts())"
      ],
      "execution_count": 219,
      "outputs": [
        {
          "output_type": "execute_result",
          "data": {
            "text/plain": [
              "51"
            ]
          },
          "metadata": {
            "tags": []
          },
          "execution_count": 219
        }
      ]
    },
    {
      "cell_type": "code",
      "metadata": {
        "id": "TqZwdYKzQc26",
        "colab_type": "code",
        "colab": {}
      },
      "source": [
        "# https://gist.github.com/sebleier/554280\n",
        "# we are removing the words from the stop words list: 'no', 'nor', 'not'\n",
        "stopwords= ['i', 'me', 'my', 'myself', 'we', 'our', 'ours', 'ourselves', 'you', \"you're\", \"you've\",\\\n",
        "            \"you'll\", \"you'd\", 'your', 'yours', 'yourself', 'yourselves', 'he', 'him', 'his', 'himself', \\\n",
        "            'she', \"she's\", 'her', 'hers', 'herself', 'it', \"it's\", 'its', 'itself', 'they', 'them', 'their',\\\n",
        "            'theirs', 'themselves', 'what', 'which', 'who', 'whom', 'this', 'that', \"that'll\", 'these', 'those', \\\n",
        "            'am', 'is', 'are', 'was', 'were', 'be', 'been', 'being', 'have', 'has', 'had', 'having', 'do', 'does', \\\n",
        "            'did', 'doing', 'a', 'an', 'the', 'and', 'but', 'if', 'or', 'because', 'as', 'until', 'while', 'of', \\\n",
        "            'at', 'by', 'for', 'with', 'about', 'against', 'between', 'into', 'through', 'during', 'before', 'after',\\\n",
        "            'above', 'below', 'to', 'from', 'up', 'down', 'in', 'out', 'on', 'off', 'over', 'under', 'again', 'further',\\\n",
        "            'then', 'once', 'here', 'there', 'when', 'where', 'why', 'how', 'all', 'any', 'both', 'each', 'few', 'more',\\\n",
        "            'most', 'other', 'some', 'such', 'only', 'own', 'same', 'so', 'than', 'too', 'very', \\\n",
        "            's', 't', 'can', 'will', 'just', 'don', \"don't\", 'should', \"should've\", 'now', 'd', 'll', 'm', 'o', 're', \\\n",
        "            've', 'y', 'ain', 'aren', \"aren't\", 'couldn', \"couldn't\", 'didn', \"didn't\", 'doesn', \"doesn't\", 'hadn',\\\n",
        "            \"hadn't\", 'hasn', \"hasn't\", 'haven', \"haven't\", 'isn', \"isn't\", 'ma', 'mightn', \"mightn't\", 'mustn',\\\n",
        "            \"mustn't\", 'needn', \"needn't\", 'shan', \"shan't\", 'shouldn', \"shouldn't\", 'wasn', \"wasn't\", 'weren', \"weren't\", \\\n",
        "            'won', \"won't\", 'wouldn', \"wouldn't\"]"
      ],
      "execution_count": 0,
      "outputs": []
    },
    {
      "cell_type": "code",
      "metadata": {
        "id": "BzDICSdEQcyY",
        "colab_type": "code",
        "outputId": "7a766470-afc1-4688-bf86-907b708dbdb1",
        "colab": {
          "base_uri": "https://localhost:8080/",
          "height": 85
        }
      },
      "source": [
        "from sklearn import model_selection\n",
        "#x_bow=x_bow.tocsr()\n",
        "\n",
        "y=project_data_new['project_is_approved']\n",
        "X_1, X_test, y_1, y_test = model_selection.train_test_split(project_data_new, y, test_size=0.33, random_state=0,\n",
        "                                                            stratify = project_data_new['project_is_approved'])\n",
        "X_tr, X_cv, y_tr, y_cv = model_selection.train_test_split(X_1, y_1, test_size=0.33)\n",
        "print(X_tr.shape, y_tr.shape)\n",
        "print(X_cv.shape, y_cv.shape)\n",
        "print(X_test.shape, y_test.shape)\n",
        "print(\"=\"*100)"
      ],
      "execution_count": 221,
      "outputs": [
        {
          "output_type": "stream",
          "text": [
            "(49041, 18) (49041,)\n",
            "(24155, 18) (24155,)\n",
            "(36052, 18) (36052,)\n",
            "====================================================================================================\n"
          ],
          "name": "stdout"
        }
      ]
    },
    {
      "cell_type": "code",
      "metadata": {
        "id": "r-_iQVX404zn",
        "colab_type": "code",
        "colab": {}
      },
      "source": [
        "X_test.drop(['project_is_approved'],axis=1,inplace=True)\n",
        "X_tr.drop(['project_is_approved'],axis=1,inplace=True)\n",
        "X_cv.drop([\"project_is_approved\"],axis=1,inplace=True)"
      ],
      "execution_count": 0,
      "outputs": []
    },
    {
      "cell_type": "code",
      "metadata": {
        "id": "ufQJRLIqQ3gG",
        "colab_type": "code",
        "outputId": "ffd55349-03b2-4e1f-87ce-1edaed90245f",
        "colab": {
          "base_uri": "https://localhost:8080/",
          "height": 34
        }
      },
      "source": [
        "from tqdm import tqdm\n",
        "tr_essay = []\n",
        "# tqdm is for printing the status bar\n",
        "for sentence in tqdm(X_tr['essay'].values):\n",
        "    sent = decontracted(sentence)\n",
        "    sent = sent.replace('\\\\r', ' ')\n",
        "    sent = sent.replace('\\\\\"', ' ')\n",
        "    sent = sent.replace('\\\\n', ' ')\n",
        "    sent = re.sub('[^A-Za-z0-9]+', ' ', sent)\n",
        "    # https://gist.github.com/sebleier/554280\n",
        "    sent = ' '.join(e for e in sent.split() if e.lower() not in stopwords)\n",
        "    tr_essay.append(sent.lower().strip())"
      ],
      "execution_count": 223,
      "outputs": [
        {
          "output_type": "stream",
          "text": [
            "100%|██████████| 49041/49041 [00:29<00:00, 1688.69it/s]\n"
          ],
          "name": "stderr"
        }
      ]
    },
    {
      "cell_type": "code",
      "metadata": {
        "id": "DnzU85GKQ3cs",
        "colab_type": "code",
        "outputId": "a2aa662f-ed78-4b02-9cc1-d2169997d4a5",
        "colab": {
          "base_uri": "https://localhost:8080/",
          "height": 34
        }
      },
      "source": [
        "cv_essay = []\n",
        "# tqdm is for printing the status bar\n",
        "for sentence in tqdm(X_cv['essay'].values):\n",
        "    sent = decontracted(sentence)\n",
        "    sent = sent.replace('\\\\r', ' ')\n",
        "    sent = sent.replace('\\\\\"', ' ')\n",
        "    sent = sent.replace('\\\\n', ' ')\n",
        "    sent = re.sub('[^A-Za-z0-9]+', ' ', sent)\n",
        "    sent = sent.lower().strip()\n",
        "    # https://gist.github.com/sebleier/554280\n",
        "    sent = ' '.join(e for e in sent.split() if e.lower() not in stopwords)\n",
        "    cv_essay.append(sent.lower().strip())"
      ],
      "execution_count": 224,
      "outputs": [
        {
          "output_type": "stream",
          "text": [
            "100%|██████████| 24155/24155 [00:14<00:00, 1719.56it/s]\n"
          ],
          "name": "stderr"
        }
      ]
    },
    {
      "cell_type": "code",
      "metadata": {
        "id": "E2amW6POQ8BH",
        "colab_type": "code",
        "outputId": "61ffa12e-afb8-40f3-be34-7f2af779bb5b",
        "colab": {
          "base_uri": "https://localhost:8080/",
          "height": 34
        }
      },
      "source": [
        "test_essay_test = []\n",
        "# tqdm is for printing the status bar\n",
        "for sentence in tqdm(X_test['essay'].values):\n",
        "    sent = decontracted(sentence)\n",
        "    sent = sent.replace('\\\\r', ' ')\n",
        "    sent = sent.replace('\\\\\"', ' ')\n",
        "    sent = sent.replace('\\\\n', ' ')\n",
        "    sent = re.sub('[^A-Za-z0-9]+', ' ', sent)\n",
        "    # https://gist.github.com/sebleier/554280\n",
        "    sent = ' '.join(e for e in sent.split() if e.lower() not in stopwords)\n",
        "    test_essay_test.append(sent.lower().strip())"
      ],
      "execution_count": 225,
      "outputs": [
        {
          "output_type": "stream",
          "text": [
            "100%|██████████| 36052/36052 [00:21<00:00, 1696.23it/s]\n"
          ],
          "name": "stderr"
        }
      ]
    },
    {
      "cell_type": "code",
      "metadata": {
        "id": "D54rseh8Q8QH",
        "colab_type": "code",
        "colab": {}
      },
      "source": [
        "X_tr['teacher_prefix']=X_tr['teacher_prefix'].fillna('mrs')\n",
        "X_test['teacher_prefix']=X_test['teacher_prefix'].fillna('mrs')\n",
        "X_cv['teacher_prefix']=X_cv['teacher_prefix'].fillna('mrs')"
      ],
      "execution_count": 0,
      "outputs": []
    },
    {
      "cell_type": "code",
      "metadata": {
        "id": "EMv25QCeRC-_",
        "colab_type": "code",
        "colab": {}
      },
      "source": [
        "# we use count vectorizer to convert the values into one \n",
        "from sklearn.feature_extraction.text import CountVectorizer\n",
        "vectorizer = CountVectorizer(lowercase=False, binary=True)\n",
        "vectorizer=vectorizer.fit(X_tr['project_subject_categories'].values)\n",
        "categories_one_hot_tr = vectorizer.transform(X_tr['project_subject_categories'].values)\n",
        "categories_one_hot_cv = vectorizer.transform(X_cv['project_subject_categories'].values)\n",
        "\n",
        "categories_one_hot_test = vectorizer.transform(X_test['project_subject_categories'].values)"
      ],
      "execution_count": 0,
      "outputs": []
    },
    {
      "cell_type": "code",
      "metadata": {
        "id": "TNLu8UkARC6_",
        "colab_type": "code",
        "colab": {}
      },
      "source": [
        "vectorizer = CountVectorizer(lowercase=False, binary=True)\n",
        "vectorizer=vectorizer.fit(X_tr['project_subject_subcategories'].values)\n",
        "sub_categories_one_hot_tr = vectorizer.transform(X_tr['project_subject_subcategories'].values)\n",
        "sub_categories_one_hot_cv = vectorizer.transform(X_cv['project_subject_subcategories'].values)\n",
        "sub_categories_one_hot_test = vectorizer.transform(X_test['project_subject_subcategories'].values)"
      ],
      "execution_count": 0,
      "outputs": []
    },
    {
      "cell_type": "code",
      "metadata": {
        "id": "rhhp7Bj7RC22",
        "colab_type": "code",
        "colab": {}
      },
      "source": [
        "vectorizer =CountVectorizer(lowercase=False,binary=True)\n",
        "vectorizer.fit(X_tr['school_state'].values)\n",
        "state_one_hot_tr=vectorizer.transform(X_tr['school_state'].values)\n",
        "state_one_hot_cv=vectorizer.transform(X_cv['school_state'].values)\n",
        "state_one_hot_test=vectorizer.transform(X_test['school_state'].values)"
      ],
      "execution_count": 0,
      "outputs": []
    },
    {
      "cell_type": "code",
      "metadata": {
        "id": "VqPOYTDpQ8LP",
        "colab_type": "code",
        "colab": {}
      },
      "source": [
        "vectorizer =CountVectorizer(lowercase=False,binary=True)\n",
        "vectorizer.fit(X_tr['project_grade_category'].values)\n",
        "project_grade_category_tr=vectorizer.transform(X_tr['project_grade_category'].values)\n",
        "project_grade_category_cv=vectorizer.transform(X_cv['project_grade_category'].values)\n",
        "project_grade_category_test=vectorizer.transform(X_test['project_grade_category'].values)"
      ],
      "execution_count": 0,
      "outputs": []
    },
    {
      "cell_type": "code",
      "metadata": {
        "id": "mwEo9JY_Q8Hs",
        "colab_type": "code",
        "colab": {}
      },
      "source": [
        "vectorizer = CountVectorizer(lowercase=False,binary=True)\n",
        "vectorizer.fit(X_tr['teacher_prefix'].values)\n",
        "teacher_prefix_tr=vectorizer.transform(X_tr['teacher_prefix'].values)\n",
        "teacher_prefix_cv=vectorizer.transform(X_cv['teacher_prefix'].values)\n",
        "teacher_prefix_test=vectorizer.transform(X_test['teacher_prefix'].values)"
      ],
      "execution_count": 0,
      "outputs": []
    },
    {
      "cell_type": "code",
      "metadata": {
        "id": "HQBA5owoQ3YV",
        "colab_type": "code",
        "colab": {}
      },
      "source": [
        "from tensorflow.keras.preprocessing import sequence"
      ],
      "execution_count": 0,
      "outputs": []
    },
    {
      "cell_type": "code",
      "metadata": {
        "id": "k3uSEc-TRUDB",
        "colab_type": "code",
        "colab": {}
      },
      "source": [
        "import numpy as np\n",
        "from tensorflow.keras.models import Sequential\n",
        "from tensorflow.keras.layers import Embedding\n",
        "from tensorflow.keras.layers import Dense, Input , Dropout\n",
        "from tensorflow.keras.layers import Flatten\n",
        "from tensorflow.keras.layers import concatenate"
      ],
      "execution_count": 0,
      "outputs": []
    },
    {
      "cell_type": "code",
      "metadata": {
        "id": "MSEB-XM5RUcd",
        "colab_type": "code",
        "outputId": "01c550ec-9b4b-4dc2-b4e1-5dade0755bb8",
        "colab": {
          "base_uri": "https://localhost:8080/",
          "height": 349
        }
      },
      "source": [
        "price_data = resource_data.groupby('id').agg({'price':'sum', 'quantity':'sum'}).reset_index()\n",
        "#project_data = pd.merge(project_data, price_data, on='id', how='left')\n",
        "X_tr=pd.merge(X_tr,price_data,on='id',how='left')\n",
        "X_cv=pd.merge(X_cv,price_data,on='id',how='left')\n",
        "X_test=pd.merge(X_test,price_data,on='id',how='left')\n",
        "X_tr.head(3)"
      ],
      "execution_count": 233,
      "outputs": [
        {
          "output_type": "execute_result",
          "data": {
            "text/html": [
              "<div>\n",
              "<style scoped>\n",
              "    .dataframe tbody tr th:only-of-type {\n",
              "        vertical-align: middle;\n",
              "    }\n",
              "\n",
              "    .dataframe tbody tr th {\n",
              "        vertical-align: top;\n",
              "    }\n",
              "\n",
              "    .dataframe thead th {\n",
              "        text-align: right;\n",
              "    }\n",
              "</style>\n",
              "<table border=\"1\" class=\"dataframe\">\n",
              "  <thead>\n",
              "    <tr style=\"text-align: right;\">\n",
              "      <th></th>\n",
              "      <th>Unnamed: 0</th>\n",
              "      <th>id</th>\n",
              "      <th>teacher_id</th>\n",
              "      <th>teacher_prefix</th>\n",
              "      <th>school_state</th>\n",
              "      <th>project_submitted_datetime</th>\n",
              "      <th>project_grade_category</th>\n",
              "      <th>project_subject_categories</th>\n",
              "      <th>project_subject_subcategories</th>\n",
              "      <th>project_title</th>\n",
              "      <th>project_essay_1</th>\n",
              "      <th>project_essay_2</th>\n",
              "      <th>project_essay_3</th>\n",
              "      <th>project_essay_4</th>\n",
              "      <th>project_resource_summary</th>\n",
              "      <th>teacher_number_of_previously_posted_projects</th>\n",
              "      <th>essay</th>\n",
              "      <th>price</th>\n",
              "      <th>quantity</th>\n",
              "    </tr>\n",
              "  </thead>\n",
              "  <tbody>\n",
              "    <tr>\n",
              "      <th>0</th>\n",
              "      <td>145908</td>\n",
              "      <td>p183089</td>\n",
              "      <td>3602831acbfaa81cc8fc7a574ee37fdb</td>\n",
              "      <td>ms</td>\n",
              "      <td>ny</td>\n",
              "      <td>2017-03-04 09:37:10</td>\n",
              "      <td>grades_prek_2</td>\n",
              "      <td>literacy_language_appliedlearning</td>\n",
              "      <td>literacy_parentinvolvement</td>\n",
              "      <td>Family Fun Tuesdays</td>\n",
              "      <td>My students are enthusiastic kindergartners, f...</td>\n",
              "      <td>On designated Tuesdays all roads will lead par...</td>\n",
              "      <td>NaN</td>\n",
              "      <td>NaN</td>\n",
              "      <td>My students need family engagement packs,sight...</td>\n",
              "      <td>10</td>\n",
              "      <td>My students are enthusiastic kindergartners, f...</td>\n",
              "      <td>704.70</td>\n",
              "      <td>29</td>\n",
              "    </tr>\n",
              "    <tr>\n",
              "      <th>1</th>\n",
              "      <td>167161</td>\n",
              "      <td>p241842</td>\n",
              "      <td>16eb1ba4243d25702abe4ee2d223f4b2</td>\n",
              "      <td>ms</td>\n",
              "      <td>va</td>\n",
              "      <td>2017-02-21 12:37:34</td>\n",
              "      <td>grades_prek_2</td>\n",
              "      <td>math_science</td>\n",
              "      <td>appliedsciences_mathematics</td>\n",
              "      <td>Promoting STEM in the Summer for Underrepresen...</td>\n",
              "      <td>We are a transient Title 1 school in Virginia ...</td>\n",
              "      <td>Even though our new Summer Innovation Academy ...</td>\n",
              "      <td>NaN</td>\n",
              "      <td>NaN</td>\n",
              "      <td>My students need opportunities in the summer t...</td>\n",
              "      <td>6</td>\n",
              "      <td>We are a transient Title 1 school in Virginia ...</td>\n",
              "      <td>267.08</td>\n",
              "      <td>5</td>\n",
              "    </tr>\n",
              "    <tr>\n",
              "      <th>2</th>\n",
              "      <td>84801</td>\n",
              "      <td>p065667</td>\n",
              "      <td>f777bbaad382ef61a578ebf164f676d2</td>\n",
              "      <td>mrs</td>\n",
              "      <td>fl</td>\n",
              "      <td>2016-10-04 00:12:04</td>\n",
              "      <td>grades_prek_2</td>\n",
              "      <td>literacy_language</td>\n",
              "      <td>literature_writing</td>\n",
              "      <td>Make it Fun, and they will Learn and Grow.</td>\n",
              "      <td>I want to provide my students with an educatio...</td>\n",
              "      <td>My students need some hands-on tools and activ...</td>\n",
              "      <td>NaN</td>\n",
              "      <td>NaN</td>\n",
              "      <td>My students need age appropriate, differentiat...</td>\n",
              "      <td>0</td>\n",
              "      <td>I want to provide my students with an educatio...</td>\n",
              "      <td>219.88</td>\n",
              "      <td>14</td>\n",
              "    </tr>\n",
              "  </tbody>\n",
              "</table>\n",
              "</div>"
            ],
            "text/plain": [
              "   Unnamed: 0       id  ...   price quantity\n",
              "0      145908  p183089  ...  704.70       29\n",
              "1      167161  p241842  ...  267.08        5\n",
              "2       84801  p065667  ...  219.88       14\n",
              "\n",
              "[3 rows x 19 columns]"
            ]
          },
          "metadata": {
            "tags": []
          },
          "execution_count": 233
        }
      ]
    },
    {
      "cell_type": "code",
      "metadata": {
        "id": "xC2WE1UxRUZC",
        "colab_type": "code",
        "colab": {}
      },
      "source": [
        "from sklearn.preprocessing import StandardScaler\n",
        "scaler = StandardScaler()\n",
        "scaler.fit(X_tr['price'].values.reshape(-1, 1))\n",
        "price_normalized_tr=scaler.transform(X_tr['price'].values.reshape(-1, 1) )\n",
        "price_normalized_cv=scaler.transform(X_cv['price'].values.reshape(-1, 1) )\n",
        "price_normalized_test=scaler.transform(X_test['price'].values.reshape(-1, 1) )"
      ],
      "execution_count": 0,
      "outputs": []
    },
    {
      "cell_type": "code",
      "metadata": {
        "id": "we8jfj1SRUVR",
        "colab_type": "code",
        "colab": {}
      },
      "source": [
        "scaler = StandardScaler()\n",
        "scaler.fit(X_tr['teacher_number_of_previously_posted_projects'].values.reshape(-1, 1))\n",
        "teacher_prv_postprjct_normalise_tr=scaler.transform(X_tr['teacher_number_of_previously_posted_projects'].values.reshape(-1, 1) )\n",
        "teacher_prv_postprjct_normalise_cv=scaler.transform(X_cv['teacher_number_of_previously_posted_projects'].values.reshape(-1, 1) )\n",
        "teacher_prv_postprjct_normalise_test=scaler.transform(X_test['teacher_number_of_previously_posted_projects'].values.reshape(-1, 1) )"
      ],
      "execution_count": 0,
      "outputs": []
    },
    {
      "cell_type": "code",
      "metadata": {
        "id": "0-6nIsMsRURi",
        "colab_type": "code",
        "colab": {}
      },
      "source": [
        "scaler = StandardScaler()\n",
        "scaler.fit(X_tr['quantity'].values.reshape(-1, 1))\n",
        "quantity_normalised_tr=scaler.transform(X_tr['quantity'].values.reshape(-1, 1) )\n",
        "quantity_normalised_cv=scaler.transform(X_cv['quantity'].values.reshape(-1, 1) )\n",
        "quantity_normalised_test=scaler.transform(X_test['quantity'].values.reshape(-1, 1) )"
      ],
      "execution_count": 0,
      "outputs": []
    },
    {
      "cell_type": "code",
      "metadata": {
        "id": "OK9jhItnRULj",
        "colab_type": "code",
        "outputId": "7d99a25f-5bc4-41d9-a9ca-27cf2cd791af",
        "colab": {
          "base_uri": "https://localhost:8080/",
          "height": 119
        }
      },
      "source": [
        "print(price_normalized_tr.shape)\n",
        "print(price_normalized_test.shape)\n",
        "\n",
        "print(teacher_prv_postprjct_normalise_test.shape)\n",
        "print(teacher_prv_postprjct_normalise_tr.shape)\n",
        "\n",
        "print(quantity_normalised_tr.T.shape)\n",
        "print(quantity_normalised_test.shape)"
      ],
      "execution_count": 237,
      "outputs": [
        {
          "output_type": "stream",
          "text": [
            "(49041, 1)\n",
            "(36052, 1)\n",
            "(36052, 1)\n",
            "(49041, 1)\n",
            "(1, 49041)\n",
            "(36052, 1)\n"
          ],
          "name": "stdout"
        }
      ]
    },
    {
      "cell_type": "code",
      "metadata": {
        "id": "vOHXLC5cMKpG",
        "colab_type": "code",
        "outputId": "9620a6cf-8949-4b53-b821-bc41a7ca7720",
        "colab": {
          "base_uri": "https://localhost:8080/",
          "height": 34
        }
      },
      "source": [
        "from google.colab import drive\n",
        "\n",
        "drive.mount('/content/drive/')"
      ],
      "execution_count": 238,
      "outputs": [
        {
          "output_type": "stream",
          "text": [
            "Drive already mounted at /content/drive/; to attempt to forcibly remount, call drive.mount(\"/content/drive/\", force_remount=True).\n"
          ],
          "name": "stdout"
        }
      ]
    },
    {
      "cell_type": "code",
      "metadata": {
        "id": "ozyRjnmWRtE7",
        "colab_type": "code",
        "outputId": "e2a1f65e-4676-449e-ae69-d1d1c94206ad",
        "colab": {
          "base_uri": "https://localhost:8080/",
          "height": 34
        }
      },
      "source": [
        "from numpy import array\n",
        "from numpy import asarray\n",
        "from numpy import zeros\n",
        "embeddings_index = dict()\n",
        "f = open('/content/drive/My Drive/glove.6B.200d.txt')\n",
        "for line in f:\n",
        "    values = line.split()\n",
        "    word = values[0]\n",
        "    coefs = asarray(values[1:], dtype='float32')\n",
        "    embeddings_index[word] = coefs\n",
        "f.close()\n",
        "print('Loaded %s word vectors.' % len(embeddings_index))"
      ],
      "execution_count": 239,
      "outputs": [
        {
          "output_type": "stream",
          "text": [
            "Loaded 400000 word vectors.\n"
          ],
          "name": "stdout"
        }
      ]
    },
    {
      "cell_type": "code",
      "metadata": {
        "id": "NfcmQ3HbRtBi",
        "colab_type": "code",
        "colab": {}
      },
      "source": [
        "def padded(encoded_docs):  \n",
        "    max_length = 350\n",
        "    padded_docs = pad_sequences(encoded_docs, maxlen=max_length, padding='post')\n",
        "    return padded_docs"
      ],
      "execution_count": 0,
      "outputs": []
    },
    {
      "cell_type": "code",
      "metadata": {
        "id": "CQNQMIbiRs98",
        "colab_type": "code",
        "colab": {}
      },
      "source": [
        "from keras.preprocessing.text import Tokenizer\n",
        "from keras.preprocessing.sequence import pad_sequences\n",
        "# prepare tokenizer\n",
        "t = Tokenizer()\n",
        "t.fit_on_texts(tr_essay)\n",
        "vocab_size = len(t.word_index) + 1\n",
        "# integer encode the documents\n",
        "encoded_docs_tr = t.texts_to_sequences(tr_essay)\n",
        "essay_padded_tr = padded(encoded_docs_tr)"
      ],
      "execution_count": 0,
      "outputs": []
    },
    {
      "cell_type": "code",
      "metadata": {
        "id": "L0xCiiXuRs4x",
        "colab_type": "code",
        "colab": {}
      },
      "source": [
        "encoded_docs_cv = t.texts_to_sequences(cv_essay)\n",
        "essay_padded_cv = padded(encoded_docs_cv)"
      ],
      "execution_count": 0,
      "outputs": []
    },
    {
      "cell_type": "code",
      "metadata": {
        "id": "jY3R18-LRspN",
        "colab_type": "code",
        "outputId": "98274f13-8578-4c73-ca58-ef4e083e1382",
        "colab": {
          "base_uri": "https://localhost:8080/",
          "height": 527
        }
      },
      "source": [
        "print(essay_padded_cv[0])"
      ],
      "execution_count": 243,
      "outputs": [
        {
          "output_type": "stream",
          "text": [
            "[   30     5   300   940  4934   135   135   233   356    36   147  5402\n",
            " 24518  7408  1592   268  4934   355   498    26   356   147     1  1731\n",
            "   669  6156     1   257   184   790    15 10601   267     2  1435    53\n",
            "    41    12    60   286    93   463    31     1 10601   267     2   103\n",
            "     2   317   252   208    81   822   363   578    96     2  2658     1\n",
            "  4514   128  1902   208    82    60    48  1113     1  2835    82   182\n",
            "    60     8 10906   882    98   300    59    98   117   853     1   303\n",
            "   889   734   951   631    55   137    73   135 39159  5173  4934   355\n",
            "  6067    29    59   230    48   810   928   418   850  2383  1068    40\n",
            "     1   355   142     3  1181  1009  1484    12   273   516   553  3709\n",
            "  1009  2684  6592   393    12   516   562    31     1    39   109     3\n",
            "   778   727    39   700  1484   516   276     1     6   727   778 10002\n",
            " 19422    80   109  1105   316     1    12    72   971   206    30     1\n",
            "   614   516    12    28  1051  1198   516    39 22207     1   355   142\n",
            "     9     0     0     0     0     0     0     0     0     0     0     0\n",
            "     0     0     0     0     0     0     0     0     0     0     0     0\n",
            "     0     0     0     0     0     0     0     0     0     0     0     0\n",
            "     0     0     0     0     0     0     0     0     0     0     0     0\n",
            "     0     0     0     0     0     0     0     0     0     0     0     0\n",
            "     0     0     0     0     0     0     0     0     0     0     0     0\n",
            "     0     0     0     0     0     0     0     0     0     0     0     0\n",
            "     0     0     0     0     0     0     0     0     0     0     0     0\n",
            "     0     0     0     0     0     0     0     0     0     0     0     0\n",
            "     0     0     0     0     0     0     0     0     0     0     0     0\n",
            "     0     0     0     0     0     0     0     0     0     0     0     0\n",
            "     0     0     0     0     0     0     0     0     0     0     0     0\n",
            "     0     0     0     0     0     0     0     0     0     0     0     0\n",
            "     0     0     0     0     0     0     0     0     0     0     0     0\n",
            "     0     0     0     0     0     0     0     0     0     0     0     0\n",
            "     0     0]\n"
          ],
          "name": "stdout"
        }
      ]
    },
    {
      "cell_type": "code",
      "metadata": {
        "id": "OZQia1XNSCYj",
        "colab_type": "code",
        "colab": {}
      },
      "source": [
        "encoded_docs_test = t.texts_to_sequences(test_essay_test)\n",
        "essay_padded_test = padded(encoded_docs_test)"
      ],
      "execution_count": 0,
      "outputs": []
    },
    {
      "cell_type": "code",
      "metadata": {
        "id": "Npn3-MvzSCRu",
        "colab_type": "code",
        "outputId": "4ce0875d-b5ae-405c-ce7b-d5110582391d",
        "colab": {
          "base_uri": "https://localhost:8080/",
          "height": 442
        }
      },
      "source": [
        "print(essay_padded_test[0])"
      ],
      "execution_count": 245,
      "outputs": [
        {
          "output_type": "stream",
          "text": [
            "[   1   17    2   37   15   84    6  845  186  135   81  122   44  124\n",
            "    2  162    1  186    8  114    4  181   19  269   92    1   18 2859\n",
            " 2274  843 2603  248    2  695  533  325  562   31  477    1  877  669\n",
            " 2282  157 8898  184    3   72  132   38    1  178   21   91  808   48\n",
            "  182   31    1 3587  168  470 1844   39 1231  292  182   31    4 2261\n",
            " 1087  580    1   12   79   39    6  143  578  178  182   31    1    3\n",
            " 1087   25   58   25   39  279   35   91 1335 1087  410 2138 1134  292\n",
            "  459 1119  564  109 2439    1  332   10   58  185  999  580   12   79\n",
            " 4069  307  304   27   39    9    0    0    0    0    0    0    0    0\n",
            "    0    0    0    0    0    0    0    0    0    0    0    0    0    0\n",
            "    0    0    0    0    0    0    0    0    0    0    0    0    0    0\n",
            "    0    0    0    0    0    0    0    0    0    0    0    0    0    0\n",
            "    0    0    0    0    0    0    0    0    0    0    0    0    0    0\n",
            "    0    0    0    0    0    0    0    0    0    0    0    0    0    0\n",
            "    0    0    0    0    0    0    0    0    0    0    0    0    0    0\n",
            "    0    0    0    0    0    0    0    0    0    0    0    0    0    0\n",
            "    0    0    0    0    0    0    0    0    0    0    0    0    0    0\n",
            "    0    0    0    0    0    0    0    0    0    0    0    0    0    0\n",
            "    0    0    0    0    0    0    0    0    0    0    0    0    0    0\n",
            "    0    0    0    0    0    0    0    0    0    0    0    0    0    0\n",
            "    0    0    0    0    0    0    0    0    0    0    0    0    0    0\n",
            "    0    0    0    0    0    0    0    0    0    0    0    0    0    0\n",
            "    0    0    0    0    0    0    0    0    0    0    0    0    0    0\n",
            "    0    0    0    0    0    0    0    0    0    0    0    0    0    0\n",
            "    0    0    0    0    0    0    0    0    0    0    0    0    0    0]\n"
          ],
          "name": "stdout"
        }
      ]
    },
    {
      "cell_type": "code",
      "metadata": {
        "id": "dXd5T9KeSCM_",
        "colab_type": "code",
        "outputId": "55ea8f61-3841-4c47-fa70-af202822167f",
        "colab": {
          "base_uri": "https://localhost:8080/",
          "height": 34
        }
      },
      "source": [
        "print('Loaded %s word vectors.' % len(embeddings_index))\n",
        "# create a weight matrix for words in training docs\n",
        "embedding_matrix = zeros((vocab_size, 200))\n",
        "for word, i in t.word_index.items():\n",
        "    embedding_vector = embeddings_index.get(word)\n",
        "    if embedding_vector is not None:\n",
        "        embedding_matrix[i] = embedding_vector"
      ],
      "execution_count": 246,
      "outputs": [
        {
          "output_type": "stream",
          "text": [
            "Loaded 400000 word vectors.\n"
          ],
          "name": "stdout"
        }
      ]
    },
    {
      "cell_type": "code",
      "metadata": {
        "id": "-8uNrsINSCIB",
        "colab_type": "code",
        "colab": {}
      },
      "source": [
        "from tensorflow.keras.layers import LSTM\n",
        "text_1 = Input(shape=(350,))\n",
        "embedding = Embedding(vocab_size, 200, input_length=350,weights=[embedding_matrix])(text_1)\n",
        "embedding1=LSTM(64,recurrent_dropout=0.5,return_sequences=True)(embedding)\n",
        "flatten_text_1 = Flatten()(embedding1)"
      ],
      "execution_count": 0,
      "outputs": []
    },
    {
      "cell_type": "code",
      "metadata": {
        "id": "oSjy4yvSOgmN",
        "colab_type": "code",
        "outputId": "00e7f430-0c2f-4082-dc58-55f41a7be5ce",
        "colab": {
          "base_uri": "https://localhost:8080/",
          "height": 34
        }
      },
      "source": [
        "flatten_text_1"
      ],
      "execution_count": 248,
      "outputs": [
        {
          "output_type": "execute_result",
          "data": {
            "text/plain": [
              "<tf.Tensor 'flatten_12/Reshape:0' shape=(?, 22400) dtype=float32>"
            ]
          },
          "metadata": {
            "tags": []
          },
          "execution_count": 248
        }
      ]
    },
    {
      "cell_type": "code",
      "metadata": {
        "id": "DideacFJ43ws",
        "colab_type": "code",
        "colab": {
          "base_uri": "https://localhost:8080/",
          "height": 34
        },
        "outputId": "e2d8e4ca-4cc2-4177-f6d3-849c3a604845"
      },
      "source": [
        "project_grade_category_tr.shape"
      ],
      "execution_count": 264,
      "outputs": [
        {
          "output_type": "execute_result",
          "data": {
            "text/plain": [
              "(49041, 4)"
            ]
          },
          "metadata": {
            "tags": []
          },
          "execution_count": 264
        }
      ]
    },
    {
      "cell_type": "code",
      "metadata": {
        "id": "_xDWu0Ox5ckD",
        "colab_type": "code",
        "colab": {
          "base_uri": "https://localhost:8080/",
          "height": 34
        },
        "outputId": "e028a5de-534b-4f8b-f223-7285fc1c3028"
      },
      "source": [
        ""
      ],
      "execution_count": 262,
      "outputs": [
        {
          "output_type": "execute_result",
          "data": {
            "text/plain": [
              "(49041, 51)"
            ]
          },
          "metadata": {
            "tags": []
          },
          "execution_count": 262
        }
      ]
    },
    {
      "cell_type": "code",
      "metadata": {
        "id": "eYixH2D4SMrD",
        "colab_type": "code",
        "colab": {}
      },
      "source": [
        "from scipy.sparse import hstack\n",
        "\n",
        "other_thentext_tr=hstack((price_normalized_tr,teacher_prv_postprjct_normalise_tr,quantity_normalised_tr,\n",
        "                       categories_one_hot_tr,sub_categories_one_hot_tr,state_one_hot_tr,\n",
        "                       project_grade_category_tr,teacher_prefix_tr))"
      ],
      "execution_count": 0,
      "outputs": []
    },
    {
      "cell_type": "code",
      "metadata": {
        "id": "waIl3RqmSMnj",
        "colab_type": "code",
        "colab": {}
      },
      "source": [
        "other_thentext_cv=hstack((price_normalized_cv,teacher_prv_postprjct_normalise_cv,quantity_normalised_cv,\n",
        "                       categories_one_hot_cv,sub_categories_one_hot_cv,state_one_hot_cv,\n",
        "                       project_grade_category_cv,teacher_prefix_cv))"
      ],
      "execution_count": 0,
      "outputs": []
    },
    {
      "cell_type": "code",
      "metadata": {
        "id": "VBUJUJj7SMi0",
        "colab_type": "code",
        "colab": {}
      },
      "source": [
        "other_thentext_test=hstack((price_normalized_test,teacher_prv_postprjct_normalise_test,quantity_normalised_test,\n",
        "                         categories_one_hot_test,sub_categories_one_hot_test,state_one_hot_test,\n",
        "                       project_grade_category_test,teacher_prefix_test))"
      ],
      "execution_count": 0,
      "outputs": []
    },
    {
      "cell_type": "code",
      "metadata": {
        "id": "yQSQgf9xRskf",
        "colab_type": "code",
        "colab": {}
      },
      "source": [
        "other_thentext_cv=other_thentext_cv.todense()\n",
        "other_thentext_tr=other_thentext_tr.todense()\n",
        "other_thentext_test=other_thentext_test.todense()"
      ],
      "execution_count": 0,
      "outputs": []
    },
    {
      "cell_type": "code",
      "metadata": {
        "id": "khBs_GriMjSZ",
        "colab_type": "code",
        "outputId": "11a5f858-0d48-411e-8f13-0febca8b8f79",
        "colab": {
          "base_uri": "https://localhost:8080/",
          "height": 34
        }
      },
      "source": [
        "print(other_thentext_test.shape)"
      ],
      "execution_count": 269,
      "outputs": [
        {
          "output_type": "stream",
          "text": [
            "(36052, 494)\n"
          ],
          "name": "stdout"
        }
      ]
    },
    {
      "cell_type": "code",
      "metadata": {
        "id": "ECNpDL-bSZeR",
        "colab_type": "code",
        "colab": {}
      },
      "source": [
        "other_thentext_cv = np.array(other_thentext_cv).reshape(24155,494,1)\n",
        "other_thentext_tr = np.array(other_thentext_tr).reshape(49041,494,1)\n",
        "other_thentext_test = np.array(other_thentext_test).reshape(36052,494,1)\n"
      ],
      "execution_count": 0,
      "outputs": []
    },
    {
      "cell_type": "code",
      "metadata": {
        "id": "75YSgPz-SZYr",
        "colab_type": "code",
        "colab": {}
      },
      "source": [
        "import tensorflow as tf\n",
        "from tensorflow.core.protobuf import rewriter_config_pb2\n",
        "from tensorflow.keras.backend import set_session\n",
        "tf.keras.backend.clear_session()  # For easy reset of notebook state.\n",
        "\n",
        "config_proto = tf.ConfigProto()\n",
        "off = rewriter_config_pb2.RewriterConfig.OFF\n",
        "config_proto.graph_options.rewrite_options.arithmetic_optimization = off\n",
        "session = tf.Session(config=config_proto)\n",
        "set_session(session)"
      ],
      "execution_count": 0,
      "outputs": []
    },
    {
      "cell_type": "code",
      "metadata": {
        "id": "__KhIjV2SgGf",
        "colab_type": "code",
        "colab": {}
      },
      "source": [
        "from tensorflow.keras.layers import Dense,concatenate,Activation,Dropout,Input,Conv1D\n",
        "from tensorflow.keras.models import Model\n",
        "other = Input(shape=(other_thentext_tr.shape[1],1),name=\"other\")\n",
        "conv1=Conv1D(64, 3, activation=tf.keras.layers.Activation('relu'))(other)\n",
        "conv2=Conv1D(128, 3, activation=tf.keras.layers.Activation('relu'))(conv1)\n",
        "flatten_1 = Flatten()(conv2)"
      ],
      "execution_count": 0,
      "outputs": []
    },
    {
      "cell_type": "code",
      "metadata": {
        "id": "aTuos4RNNiOW",
        "colab_type": "code",
        "outputId": "dde62a72-cd19-4ea7-ac98-7767b6448593",
        "colab": {
          "base_uri": "https://localhost:8080/",
          "height": 34
        }
      },
      "source": [
        "flatten_1"
      ],
      "execution_count": 61,
      "outputs": [
        {
          "output_type": "execute_result",
          "data": {
            "text/plain": [
              "<tf.Tensor 'flatten_1/Reshape:0' shape=(?, 62592) dtype=float32>"
            ]
          },
          "metadata": {
            "tags": []
          },
          "execution_count": 61
        }
      ]
    },
    {
      "cell_type": "code",
      "metadata": {
        "id": "GmI7V_ORSgBd",
        "colab_type": "code",
        "colab": {}
      },
      "source": [
        "from tensorflow.keras.layers import concatenate\n",
        "concat_layer=concatenate(inputs=[flatten_text_1,flatten_1],name=\"concat\" )"
      ],
      "execution_count": 0,
      "outputs": []
    },
    {
      "cell_type": "code",
      "metadata": {
        "id": "9IuGZapXmmAt",
        "colab_type": "code",
        "colab": {}
      },
      "source": [
        "from tensorflow.keras.layers import BatchNormalization"
      ],
      "execution_count": 0,
      "outputs": []
    },
    {
      "cell_type": "code",
      "metadata": {
        "id": "7N5VeRppSmJ8",
        "colab_type": "code",
        "colab": {}
      },
      "source": [
        "normalize=BatchNormalization()(concat_layer)\n",
        "\n",
        "layer2 = Dense(units=64,activation='relu',kernel_initializer='he_normal',kernel_regularizer=l2(),name=\"layer2\")(normalize)\n",
        "layer2 = Dropout(.65)(layer2)\n",
        "normalize=BatchNormalization()(layer2)\n",
        "layer3 = Dense(units=32,activation='relu',kernel_initializer='he_normal',kernel_regularizer=l2(),name='layer3')(normalize)\n",
        "layer3 = Dropout(.55)(layer3)\n",
        "layer4 = Dense(units=16,activation='relu',kernel_initializer='he_normal',kernel_regularizer=l2(),name=\"layer4\")(layer3)\n",
        "layer4 = Dropout(.55)(layer4)\n",
        "output = Dense(1,activation='sigmoid',name=\"output\")(layer4)"
      ],
      "execution_count": 0,
      "outputs": []
    },
    {
      "cell_type": "code",
      "metadata": {
        "id": "3e84Py5NSmUl",
        "colab_type": "code",
        "colab": {}
      },
      "source": [
        "from tensorflow.keras.layers import Dense,concatenate,Activation,Dropout,Input\n",
        "from tensorflow.keras.models import Model"
      ],
      "execution_count": 0,
      "outputs": []
    },
    {
      "cell_type": "code",
      "metadata": {
        "id": "fd1WVcB2Sr21",
        "colab_type": "code",
        "colab": {}
      },
      "source": [
        "model = Model(inputs=[text_1,other],outputs=output)"
      ],
      "execution_count": 0,
      "outputs": []
    },
    {
      "cell_type": "code",
      "metadata": {
        "id": "ca-juFPNSrws",
        "colab_type": "code",
        "outputId": "0d3c4824-c1ff-47f6-f550-aa99a008f7d0",
        "colab": {
          "base_uri": "https://localhost:8080/",
          "height": 782
        }
      },
      "source": [
        "model.summary()"
      ],
      "execution_count": 284,
      "outputs": [
        {
          "output_type": "stream",
          "text": [
            "Model: \"model_1\"\n",
            "__________________________________________________________________________________________________\n",
            "Layer (type)                    Output Shape         Param #     Connected to                     \n",
            "==================================================================================================\n",
            "input_1 (InputLayer)            [(None, 350)]        0                                            \n",
            "__________________________________________________________________________________________________\n",
            "other (InputLayer)              [(None, 494, 1)]     0                                            \n",
            "__________________________________________________________________________________________________\n",
            "embedding (Embedding)           (None, 350, 200)     8250800     input_1[0][0]                    \n",
            "__________________________________________________________________________________________________\n",
            "conv1d_2 (Conv1D)               (None, 492, 64)      256         other[0][0]                      \n",
            "__________________________________________________________________________________________________\n",
            "lstm (LSTM)                     (None, 350, 64)      67840       embedding[0][0]                  \n",
            "__________________________________________________________________________________________________\n",
            "conv1d_3 (Conv1D)               (None, 490, 128)     24704       conv1d_2[0][0]                   \n",
            "__________________________________________________________________________________________________\n",
            "flatten_1 (Flatten)             (None, 22400)        0           lstm[0][0]                       \n",
            "__________________________________________________________________________________________________\n",
            "flatten_2 (Flatten)             (None, 62720)        0           conv1d_3[0][0]                   \n",
            "__________________________________________________________________________________________________\n",
            "concat (Concatenate)            (None, 85120)        0           flatten_1[0][0]                  \n",
            "                                                                 flatten_2[0][0]                  \n",
            "__________________________________________________________________________________________________\n",
            "batch_normalization_1 (BatchNor (None, 85120)        340480      concat[0][0]                     \n",
            "__________________________________________________________________________________________________\n",
            "layer2 (Dense)                  (None, 64)           5447744     batch_normalization_1[0][0]      \n",
            "__________________________________________________________________________________________________\n",
            "dropout_3 (Dropout)             (None, 64)           0           layer2[0][0]                     \n",
            "__________________________________________________________________________________________________\n",
            "batch_normalization_2 (BatchNor (None, 64)           256         dropout_3[0][0]                  \n",
            "__________________________________________________________________________________________________\n",
            "layer3 (Dense)                  (None, 32)           2080        batch_normalization_2[0][0]      \n",
            "__________________________________________________________________________________________________\n",
            "dropout_4 (Dropout)             (None, 32)           0           layer3[0][0]                     \n",
            "__________________________________________________________________________________________________\n",
            "layer4 (Dense)                  (None, 16)           528         dropout_4[0][0]                  \n",
            "__________________________________________________________________________________________________\n",
            "dropout_5 (Dropout)             (None, 16)           0           layer4[0][0]                     \n",
            "__________________________________________________________________________________________________\n",
            "output (Dense)                  (None, 1)            17          dropout_5[0][0]                  \n",
            "==================================================================================================\n",
            "Total params: 14,134,705\n",
            "Trainable params: 13,964,337\n",
            "Non-trainable params: 170,368\n",
            "__________________________________________________________________________________________________\n"
          ],
          "name": "stdout"
        }
      ]
    },
    {
      "cell_type": "code",
      "metadata": {
        "id": "Zfq9TxthSrrv",
        "colab_type": "code",
        "colab": {}
      },
      "source": [
        "model.compile(optimizer=tf.keras.optimizers.Adam(lr=0.001),loss='binary_crossentropy',metrics=[auroc])"
      ],
      "execution_count": 0,
      "outputs": []
    },
    {
      "cell_type": "code",
      "metadata": {
        "id": "6Fp2ZpPd8Nv5",
        "colab_type": "code",
        "colab": {}
      },
      "source": [
        "from keras.utils import to_categorical\n",
        "y_binary_tr= to_categorical(y_tr)\n",
        "y_binary_cv = to_categorical(y_cv)\n",
        "y_binary_test = to_categorical(y_test)"
      ],
      "execution_count": 0,
      "outputs": []
    },
    {
      "cell_type": "code",
      "metadata": {
        "id": "M2c4OGR9SZTn",
        "colab_type": "code",
        "outputId": "f52a35c4-f93d-40af-faf4-aed6cb5bee16",
        "colab": {
          "base_uri": "https://localhost:8080/",
          "height": 272
        }
      },
      "source": [
        "history=model.fit([essay_padded_tr,other_thentext_tr],y_tr,batch_size=500,epochs=7,\n",
        "                  validation_data=([essay_padded_cv,other_thentext_cv],y_cv))"
      ],
      "execution_count": 289,
      "outputs": [
        {
          "output_type": "stream",
          "text": [
            "Train on 49041 samples, validate on 24155 samples\n",
            "Epoch 1/7\n",
            "49041/49041 [==============================] - 621s 13ms/sample - loss: 2.3195 - auroc: 0.5212 - val_loss: 1.4801 - val_auroc: 0.5932\n",
            "Epoch 2/7\n",
            "49041/49041 [==============================] - 623s 13ms/sample - loss: 1.3087 - auroc: 0.5400 - val_loss: 1.0443 - val_auroc: 0.6059\n",
            "Epoch 3/7\n",
            "49041/49041 [==============================] - 640s 13ms/sample - loss: 0.9835 - auroc: 0.5746 - val_loss: 0.8350 - val_auroc: 0.6750\n",
            "Epoch 4/7\n",
            "49041/49041 [==============================] - 636s 13ms/sample - loss: 0.7894 - auroc: 0.6089 - val_loss: 0.6890 - val_auroc: 0.7143\n",
            "Epoch 5/7\n",
            "49041/49041 [==============================] - 644s 13ms/sample - loss: 0.6563 - auroc: 0.6461 - val_loss: 0.5973 - val_auroc: 0.7427\n",
            "Epoch 6/7\n",
            "49041/49041 [==============================] - 641s 13ms/sample - loss: 0.5852 - auroc: 0.6902 - val_loss: 0.5299 - val_auroc: 0.7517\n",
            "Epoch 7/7\n",
            "49041/49041 [==============================] - 645s 13ms/sample - loss: 0.5251 - auroc: 0.7412 - val_loss: 0.4992 - val_auroc: 0.7537\n"
          ],
          "name": "stdout"
        }
      ]
    },
    {
      "cell_type": "code",
      "metadata": {
        "id": "MHKxiHZXy4_f",
        "colab_type": "code",
        "outputId": "f5b7ffd1-d2a8-47a0-d064-f07675e00c1c",
        "colab": {
          "base_uri": "https://localhost:8080/",
          "height": 312
        }
      },
      "source": [
        "import matplotlib.pyplot as plt\n",
        "print(history.history.keys())\n",
        "# summarize history for accuracy\n",
        "plt.plot(history.history['auroc'])\n",
        "plt.plot(history.history['val_auroc']) \n",
        "plt.title('model accuracy')\n",
        "plt.ylabel('accuracy')\n",
        "plt.xlabel('epoch')\n",
        "plt.legend(['train', 'test'], loc='upper left')\n",
        "plt.show()"
      ],
      "execution_count": 290,
      "outputs": [
        {
          "output_type": "stream",
          "text": [
            "dict_keys(['loss', 'auroc', 'val_loss', 'val_auroc'])\n"
          ],
          "name": "stdout"
        },
        {
          "output_type": "display_data",
          "data": {
            "image/png": "[encoded data removed]",
            "text/plain": [
              "<Figure size 432x288 with 1 Axes>"
            ]
          },
          "metadata": {
            "tags": []
          }
        }
      ]
    },
    {
      "cell_type": "code",
      "metadata": {
        "id": "cgFg7wImsYHV",
        "colab_type": "code",
        "outputId": "1f66c8fe-82c8-4374-e0e3-e47980c50d18",
        "colab": {
          "base_uri": "https://localhost:8080/",
          "height": 34
        }
      },
      "source": [
        "score = model.evaluate([essay_padded_test,other_thentext_test],y_test,batch_size=500)"
      ],
      "execution_count": 291,
      "outputs": [
        {
          "output_type": "stream",
          "text": [
            "36052/36052 [==============================] - 105s 3ms/sample - loss: 0.5005 - auroc: 0.7575\n"
          ],
          "name": "stdout"
        }
      ]
    },
    {
      "cell_type": "code",
      "metadata": {
        "id": "ibemjoeEsoku",
        "colab_type": "code",
        "outputId": "2994a02e-cbfe-4f69-9b0d-5a3caae66e42",
        "colab": {
          "base_uri": "https://localhost:8080/",
          "height": 136
        }
      },
      "source": [
        "from prettytable import PrettyTable\n",
        "table=PrettyTable()\n",
        "table.field_names=[\"model\",\"train_auc\",\"cv_auc\",\"test_auc\"]\n",
        "table.add_row([\"m_1\",\"77.64\",\"80.92\",\"80.74\"])\n",
        "table.add_row([\"m_2\",\"69.86\",\"70.22\",\"69.57\"])\n",
        "table.add_row([\"m_3\",\"74.12\",\"75.37\",\"75.75\"])\n",
        "\n",
        "print(table)"
      ],
      "execution_count": 181,
      "outputs": [
        {
          "output_type": "stream",
          "text": [
            "+-------+-----------+--------+----------+\n",
            "| model | train_auc | cv_auc | test_auc |\n",
            "+-------+-----------+--------+----------+\n",
            "|  m_1  |   77.64   | 80.92  |  80.74   |\n",
            "|  m_2  |   69.86   | 70.22  |  69.57   |\n",
            "|  m_3  |   74.12   | 75.37  |  75.75   |\n",
            "+-------+-----------+--------+----------+\n"
          ],
          "name": "stdout"
        }
      ]
    }
  ]
}